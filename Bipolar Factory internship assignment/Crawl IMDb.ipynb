{
  "nbformat": 4,
  "nbformat_minor": 0,
  "metadata": {
    "kernelspec": {
      "display_name": "Python 3",
      "language": "python",
      "name": "python3"
    },
    "language_info": {
      "codemirror_mode": {
        "name": "ipython",
        "version": 3
      },
      "file_extension": ".py",
      "mimetype": "text/x-python",
      "name": "python",
      "nbconvert_exporter": "python",
      "pygments_lexer": "ipython3",
      "version": "3.7.4"
    },
    "colab": {
      "name": "IMDB scrape-Copy1.ipynb",
      "provenance": [],
      "collapsed_sections": []
    },
    "accelerator": "GPU"
  },
  "cells": [
    {
      "cell_type": "code",
      "metadata": {
        "id": "B8MsurHpwMFh",
        "colab_type": "code",
        "colab": {}
      },
      "source": [
        "from urllib.request import urlopen\n",
        "from bs4 import BeautifulSoup\n",
        "import re\n",
        "import pandas as pd\n",
        "import numpy as np"
      ],
      "execution_count": 0,
      "outputs": []
    },
    {
      "cell_type": "code",
      "metadata": {
        "id": "WYmS99XPwMFq",
        "colab_type": "code",
        "colab": {}
      },
      "source": [
        "im=[]\n",
        "f=[]\n",
        "m=[]\n",
        "blacklist = ['[document]','noscript','header','html','meta','head', 'input','script']"
      ],
      "execution_count": 0,
      "outputs": []
    },
    {
      "cell_type": "code",
      "metadata": {
        "id": "sygkz0ASwMFx",
        "colab_type": "code",
        "colab": {
          "base_uri": "https://localhost:8080/",
          "height": 50
        },
        "outputId": "9c06ad85-981f-4a14-c48e-3cd495408c75"
      },
      "source": [
        "for pagenum in range(1,3):\n",
        "    html = urlopen('https://www.imdb.com/list/ls068010962/?sort=list_order,asc&mode=detail&page='+str(pagenum))\n",
        "    bs = BeautifulSoup(html, 'html.parser')\n",
        "    images = bs.find_all('img', {'src':re.compile('.jpg')}) # extract all image links from page\n",
        "    for image in images: \n",
        "        im.append(image['src']+'\\n') # append image\n",
        "        f.append(image['alt']) # append celebrity name\n",
        "    for links in bs.find_all('a'):\n",
        "        link=links.get('href')\n",
        "        try:\n",
        "            if(link[0:6]=='/name/' and link[-1]=='/'):\n",
        "                m.append('https://www.imdb.com'+link+'bio?ref_=nm_ov_bio_sm') # append Bio page of celebrity\n",
        "        except Exception:\n",
        "            pass\n",
        "    print(len(im),len(f),len(m))"
      ],
      "execution_count": 12,
      "outputs": [
        {
          "output_type": "stream",
          "text": [
            "98 98 100\n",
            "197 197 200\n"
          ],
          "name": "stdout"
        }
      ]
    },
    {
      "cell_type": "code",
      "metadata": {
        "id": "jV7PPDZkwMF6",
        "colab_type": "code",
        "colab": {}
      },
      "source": [
        "unwanted_num = {m[23],m[54],m[188]} # there are 3 celebrities with no image. Remove them.  \n",
        "m = [ele for ele in m if ele not in unwanted_num]"
      ],
      "execution_count": 0,
      "outputs": []
    },
    {
      "cell_type": "code",
      "metadata": {
        "id": "cqkN0talwMGB",
        "colab_type": "code",
        "colab": {
          "base_uri": "https://localhost:8080/",
          "height": 34
        },
        "outputId": "89528b37-a64b-47f6-c55b-0036627a87b0"
      },
      "source": [
        "print(len(im),len(f),len(m))"
      ],
      "execution_count": 14,
      "outputs": [
        {
          "output_type": "stream",
          "text": [
            "197 197 197\n"
          ],
          "name": "stdout"
        }
      ]
    },
    {
      "cell_type": "code",
      "metadata": {
        "id": "wrEvljA_wMGV",
        "colab_type": "code",
        "colab": {}
      },
      "source": [
        "trademark=[]\n",
        "height=[]\n",
        "sub_str = [ 'Overview','Mini Bio','Trade Mark','Trivia']\n",
        "occurrence = 2\n",
        "for url in m:\n",
        "    occ=[]\n",
        "    data=urlopen(url)\n",
        "    soup=BeautifulSoup(data,'html.parser')\n",
        "    ############### STORE TEXT FROM NOT BLACKLISTED TAGS ###########\n",
        "    text = soup.find_all(text=True)\n",
        "    output = ''\n",
        "    for t in text:\n",
        "        if t.parent.name not in blacklist:\n",
        "            output += '{} '.format(t)\n",
        "    ################# STORE POSITION OF HEADERS IN URL ##############\n",
        "    for sub in sub_str:\n",
        "        val = -1\n",
        "        for i in range(0, occurrence): \n",
        "            val = output.find(sub, val + 1) \n",
        "        occ.append(val)\n",
        "    ################## STORE TRAITS OF PERSONALITY ###################\n",
        "    if(occ[2]==-1):\n",
        "        trademark.append([])\n",
        "    else:\n",
        "        if(occ[3]!=-1):\n",
        "            k=output[occ[2]:occ[3]]\n",
        "            x=k.split('\\n \\n')\n",
        "            for i in range(len(x)):\n",
        "                x[i]=x[i].strip()\n",
        "            if(len(x[1:-1])>2):\n",
        "                trademark.append(x[1:-1][:2])\n",
        "            else:\n",
        "                trademark.append(x[1:-1])\n",
        "        else:\n",
        "            k=output[occ[2]:]\n",
        "            trademark.append(k.split('\\n \\n')[1].strip())\n",
        "    ####################STORE HEIGHT OF PERSONALITY ##################\n",
        "    if(occ[0]==-1):\n",
        "        height.append('')\n",
        "    else:\n",
        "        if(occ[1]==-1):\n",
        "            height.append('')\n",
        "        else:\n",
        "            r=output[occ[0]:occ[1]]\n",
        "            x=r.split('\\n')\n",
        "            for i in range(len(x)):\n",
        "                x[i]=x[i].strip()\n",
        "            without_empty_strings = []\n",
        "            for string in x:\n",
        "                if (string != \"\"):\n",
        "                    without_empty_strings.append(string)\n",
        "            count=0\n",
        "            for i in without_empty_strings[-1]:\n",
        "                if(i=='.'):\n",
        "                    break\n",
        "                else:\n",
        "                    count=count+1\n",
        "            a=without_empty_strings[-1][count-1:count+2]\n",
        "            if(a.replace('.','',1).isdigit() and a.count('.') < 2):\n",
        "                height.append(a)\n",
        "            else:\n",
        "                height.append('')"
      ],
      "execution_count": 0,
      "outputs": []
    },
    {
      "cell_type": "code",
      "metadata": {
        "id": "_-O_9WoIwMGd",
        "colab_type": "code",
        "colab": {}
      },
      "source": [
        "############## APPEND HEIGHT TO TRAIT ###########################\n",
        "for i in range(len(height)):\n",
        "    if(type(trademark[i])==list and height[i]!=''):\n",
        "        trademark[i].append('height is '+str(height[i])+' m')\n",
        "############# MAKE EMPTY LIST as NaN ###########################\n",
        "for i in range(len(trademark)):\n",
        "    if(trademark[i]==[]):\n",
        "        trademark[i]=np.nan"
      ],
      "execution_count": 0,
      "outputs": []
    },
    {
      "cell_type": "code",
      "metadata": {
        "id": "gr9SMDQmzc86",
        "colab_type": "code",
        "colab": {
          "base_uri": "https://localhost:8080/",
          "height": 279
        },
        "outputId": "a44fa167-355b-4a9c-f929-0209373782b2"
      },
      "source": [
        "df=pd.DataFrame(zip(f,im,m,trademark),columns=['Celebrity','Image','Bio','Trait'])\n",
        "df.head()"
      ],
      "execution_count": 18,
      "outputs": [
        {
          "output_type": "execute_result",
          "data": {
            "text/html": [
              "<div>\n",
              "<style scoped>\n",
              "    .dataframe tbody tr th:only-of-type {\n",
              "        vertical-align: middle;\n",
              "    }\n",
              "\n",
              "    .dataframe tbody tr th {\n",
              "        vertical-align: top;\n",
              "    }\n",
              "\n",
              "    .dataframe thead th {\n",
              "        text-align: right;\n",
              "    }\n",
              "</style>\n",
              "<table border=\"1\" class=\"dataframe\">\n",
              "  <thead>\n",
              "    <tr style=\"text-align: right;\">\n",
              "      <th></th>\n",
              "      <th>Celebrity</th>\n",
              "      <th>Image</th>\n",
              "      <th>Bio</th>\n",
              "      <th>Trait</th>\n",
              "    </tr>\n",
              "  </thead>\n",
              "  <tbody>\n",
              "    <tr>\n",
              "      <th>0</th>\n",
              "      <td>Aamir Khan</td>\n",
              "      <td>https://m.media-amazon.com/images/M/MV5BMjAwMj...</td>\n",
              "      <td>https://www.imdb.com/name/nm0451148/bio?ref_=n...</td>\n",
              "      <td>[Short, yet muscular stature, Frequently colla...</td>\n",
              "    </tr>\n",
              "    <tr>\n",
              "      <th>1</th>\n",
              "      <td>Akshay Kumar</td>\n",
              "      <td>https://m.media-amazon.com/images/M/MV5BODI4ND...</td>\n",
              "      <td>https://www.imdb.com/name/nm0474774/bio?ref_=n...</td>\n",
              "      <td>[Performs his own stunta, Heavy, yet raspy voi...</td>\n",
              "    </tr>\n",
              "    <tr>\n",
              "      <th>2</th>\n",
              "      <td>Ajay Devgn</td>\n",
              "      <td>https://m.media-amazon.com/images/M/MV5BMTY0MD...</td>\n",
              "      <td>https://www.imdb.com/name/nm0222426/bio?ref_=n...</td>\n",
              "      <td>[Intense Eyes, Chocolatey Eyes, height is 1.7 m]</td>\n",
              "    </tr>\n",
              "    <tr>\n",
              "      <th>3</th>\n",
              "      <td>Amjad Khan</td>\n",
              "      <td>https://m.media-amazon.com/images/M/MV5BOWUzNj...</td>\n",
              "      <td>https://www.imdb.com/name/nm0451166/bio?ref_=n...</td>\n",
              "      <td>[height is 1.7 m]</td>\n",
              "    </tr>\n",
              "    <tr>\n",
              "      <th>4</th>\n",
              "      <td>Amitabh Bachchan</td>\n",
              "      <td>https://m.media-amazon.com/images/M/MV5BNTk1OT...</td>\n",
              "      <td>https://www.imdb.com/name/nm0000821/bio?ref_=n...</td>\n",
              "      <td>[His baritone voice, height is 1.8 m]</td>\n",
              "    </tr>\n",
              "  </tbody>\n",
              "</table>\n",
              "</div>"
            ],
            "text/plain": [
              "          Celebrity  ...                                              Trait\n",
              "0        Aamir Khan  ...  [Short, yet muscular stature, Frequently colla...\n",
              "1      Akshay Kumar  ...  [Performs his own stunta, Heavy, yet raspy voi...\n",
              "2        Ajay Devgn  ...   [Intense Eyes, Chocolatey Eyes, height is 1.7 m]\n",
              "3        Amjad Khan  ...                                  [height is 1.7 m]\n",
              "4  Amitabh Bachchan  ...              [His baritone voice, height is 1.8 m]\n",
              "\n",
              "[5 rows x 4 columns]"
            ]
          },
          "metadata": {
            "tags": []
          },
          "execution_count": 18
        }
      ]
    }
  ]
}