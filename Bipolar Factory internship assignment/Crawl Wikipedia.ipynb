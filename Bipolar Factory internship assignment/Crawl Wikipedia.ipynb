{
  "nbformat": 4,
  "nbformat_minor": 0,
  "metadata": {
    "kernelspec": {
      "display_name": "Python 3",
      "language": "python",
      "name": "python3"
    },
    "language_info": {
      "codemirror_mode": {
        "name": "ipython",
        "version": 3
      },
      "file_extension": ".py",
      "mimetype": "text/x-python",
      "name": "python",
      "nbconvert_exporter": "python",
      "pygments_lexer": "ipython3",
      "version": "3.7.4"
    },
    "colab": {
      "name": "Wiki scrape.ipynb",
      "provenance": []
    },
    "accelerator": "GPU"
  },
  "cells": [
    {
      "cell_type": "markdown",
      "metadata": {
        "id": "RIXO5udyqVAW",
        "colab_type": "text"
      },
      "source": [
        "# Import Libraries"
      ]
    },
    {
      "cell_type": "code",
      "metadata": {
        "id": "97ECUFbjqVAX",
        "colab_type": "code",
        "colab": {}
      },
      "source": [
        "import bs4\n",
        "import requests\n",
        "import re\n",
        "import string\n",
        "import pandas as pd\n",
        "import numpy as np"
      ],
      "execution_count": 0,
      "outputs": []
    },
    {
      "cell_type": "markdown",
      "metadata": {
        "id": "_gsMkaHyqVAd",
        "colab_type": "text"
      },
      "source": [
        "# Scraping function"
      ]
    },
    {
      "cell_type": "code",
      "metadata": {
        "id": "sC_dbt14qVAe",
        "colab_type": "code",
        "colab": {}
      },
      "source": [
        "actor_name=[]\n",
        "actor_image=[]\n",
        "bio=[]\n",
        "test_list = list(string.ascii_uppercase) # list of all uppercase English alphabets\n",
        "def fun(url):\n",
        "    r = requests.get(url)\n",
        "    soup = bs4.BeautifulSoup(r.content)\n",
        "    for i in test_list:\n",
        "        try:\n",
        "            heading = soup.find(id=i) # find header tag\n",
        "            teams = heading.find_next('ul') # find unordered list under the header tag\n",
        "            for team in teams:\n",
        "                x=team.string # name of celebrity\n",
        "                if(x!='\\n'):\n",
        "                    k='https://en.wikipedia.org/wiki/'+x.replace(' ','_') # URL of personal page\n",
        "                    bio.append(k)\n",
        "                    html = requests.get(k)\n",
        "                    bs = bs4.BeautifulSoup(html.text,'html.parser')\n",
        "                    images = bs.find_all('img', {'src':re.compile('.jpg')}) # extract image links from celebrity's personal page\n",
        "                    if(images!=[]):\n",
        "                        actor_name.append(x) # append name\n",
        "                        actor_image.append(images[0]['src']+'\\n') # append first image\n",
        "                    else:\n",
        "                        actor_name.append(x)\n",
        "                        actor_image.append('')\n",
        "        except Exception:\n",
        "            pass\n",
        "    return actor_name,actor_image"
      ],
      "execution_count": 0,
      "outputs": []
    },
    {
      "cell_type": "markdown",
      "metadata": {
        "id": "bgZflXw2qVAj",
        "colab_type": "text"
      },
      "source": [
        "# Scrape data from first URL"
      ]
    },
    {
      "cell_type": "code",
      "metadata": {
        "id": "dIzCYFfaqVAk",
        "colab_type": "code",
        "colab": {}
      },
      "source": [
        "an,ai=fun('https://en.wikipedia.org/wiki/List_of_Bollywood_actors')"
      ],
      "execution_count": 0,
      "outputs": []
    },
    {
      "cell_type": "markdown",
      "metadata": {
        "id": "ZUi6MSkHqVAo",
        "colab_type": "text"
      },
      "source": [
        "# Scrape data from some outbound URLs"
      ]
    },
    {
      "cell_type": "code",
      "metadata": {
        "id": "xGipHYkYqVAp",
        "colab_type": "code",
        "colab": {}
      },
      "source": [
        "l=[]\n",
        "r = requests.get('https://en.wikipedia.org/wiki/List_of_Bollywood_actors')\n",
        "soup = bs4.BeautifulSoup(r.content)\n",
        "heading = soup.find(id='See_also') # find \"See also\" header tag\n",
        "teams = heading.find_next('ul') # find unordered list under \"See also\" header tag\n",
        "for team in teams:\n",
        "    x=team.string\n",
        "    if(x!='\\n'):\n",
        "        l.append('https://en.wikipedia.org/wiki/'+x.replace(' ','_')) #store all URLs under \"See also\" header tag"
      ],
      "execution_count": 0,
      "outputs": []
    },
    {
      "cell_type": "code",
      "metadata": {
        "id": "8bGHKeZHqVAt",
        "colab_type": "code",
        "colab": {
          "base_uri": "https://localhost:8080/",
          "height": 101
        },
        "outputId": "c48f8e93-4bc9-4b5b-9b2b-d202505e6bc5"
      },
      "source": [
        "l"
      ],
      "execution_count": 5,
      "outputs": [
        {
          "output_type": "execute_result",
          "data": {
            "text/plain": [
              "['https://en.wikipedia.org/wiki/List_of_Indian_film_actors',\n",
              " 'https://en.wikipedia.org/wiki/List_of_Indian_film_actresses',\n",
              " 'https://en.wikipedia.org/wiki/List_of_Bollywood_actresses',\n",
              " 'https://en.wikipedia.org/wiki/List_of_Indian_television_actors',\n",
              " 'https://en.wikipedia.org/wiki/Lists_of_actors']"
            ]
          },
          "metadata": {
            "tags": []
          },
          "execution_count": 5
        }
      ]
    },
    {
      "cell_type": "code",
      "metadata": {
        "id": "A3F4MbP7qVAy",
        "colab_type": "code",
        "colab": {}
      },
      "source": [
        "for i in l[:3]: # scrape data from first three URLs (others are irrelevant)\n",
        "    an,ai=fun(i)"
      ],
      "execution_count": 0,
      "outputs": []
    },
    {
      "cell_type": "markdown",
      "metadata": {
        "id": "3VOVpf9kqVA6",
        "colab_type": "text"
      },
      "source": [
        "# Output DataFrame"
      ]
    },
    {
      "cell_type": "code",
      "metadata": {
        "id": "9G89XrKpqVA7",
        "colab_type": "code",
        "colab": {
          "base_uri": "https://localhost:8080/",
          "height": 402
        },
        "outputId": "96026005-a5ca-4da6-a315-8f68eda3aef1"
      },
      "source": [
        "df=pd.DataFrame(zip(an,ai,bio),columns=['Celebrity','Image','Bio'])\n",
        "df=df.replace('', np.nan) # replace blank values with NaN\n",
        "df['Celebrity']=df['Celebrity'].str.casefold() # lowercase string in \"Actor\" column\n",
        "df.sort_values(\"Celebrity\", inplace = True)  # sort DataFrame based on \"Actor\" column\n",
        "df.drop_duplicates(subset =\"Celebrity\",inplace = True) # drop a row with duplicate \"Actor\" entry\n",
        "df                "
      ],
      "execution_count": 8,
      "outputs": [
        {
          "output_type": "execute_result",
          "data": {
            "text/html": [
              "<div>\n",
              "<style scoped>\n",
              "    .dataframe tbody tr th:only-of-type {\n",
              "        vertical-align: middle;\n",
              "    }\n",
              "\n",
              "    .dataframe tbody tr th {\n",
              "        vertical-align: top;\n",
              "    }\n",
              "\n",
              "    .dataframe thead th {\n",
              "        text-align: right;\n",
              "    }\n",
              "</style>\n",
              "<table border=\"1\" class=\"dataframe\">\n",
              "  <thead>\n",
              "    <tr style=\"text-align: right;\">\n",
              "      <th></th>\n",
              "      <th>Celebrity</th>\n",
              "      <th>Image</th>\n",
              "      <th>Bio</th>\n",
              "    </tr>\n",
              "  </thead>\n",
              "  <tbody>\n",
              "    <tr>\n",
              "      <th>37</th>\n",
              "      <td>a. k. hangal</td>\n",
              "      <td>//upload.wikimedia.org/wikipedia/commons/thumb...</td>\n",
              "      <td>https://en.wikipedia.org/wiki/A._K._Hangal</td>\n",
              "    </tr>\n",
              "    <tr>\n",
              "      <th>310</th>\n",
              "      <td>aadhi</td>\n",
              "      <td>//upload.wikimedia.org/wikipedia/en/thumb/e/ee...</td>\n",
              "      <td>https://en.wikipedia.org/wiki/Aadhi</td>\n",
              "    </tr>\n",
              "    <tr>\n",
              "      <th>311</th>\n",
              "      <td>aadi pudipeddi</td>\n",
              "      <td>NaN</td>\n",
              "      <td>https://en.wikipedia.org/wiki/Aadi_Pudipeddi</td>\n",
              "    </tr>\n",
              "    <tr>\n",
              "      <th>51</th>\n",
              "      <td>aamir bashir</td>\n",
              "      <td>//upload.wikimedia.org/wikipedia/commons/thumb...</td>\n",
              "      <td>https://en.wikipedia.org/wiki/Aamir_Bashir</td>\n",
              "    </tr>\n",
              "    <tr>\n",
              "      <th>0</th>\n",
              "      <td>aamir khan</td>\n",
              "      <td>//upload.wikimedia.org/wikipedia/commons/thumb...</td>\n",
              "      <td>https://en.wikipedia.org/wiki/Aamir_Khan</td>\n",
              "    </tr>\n",
              "    <tr>\n",
              "      <th>...</th>\n",
              "      <td>...</td>\n",
              "      <td>...</td>\n",
              "      <td>...</td>\n",
              "    </tr>\n",
              "    <tr>\n",
              "      <th>1033</th>\n",
              "      <td>zeishan quadri</td>\n",
              "      <td>//upload.wikimedia.org/wikipedia/commons/thumb...</td>\n",
              "      <td>https://en.wikipedia.org/wiki/Zeishan_Quadri</td>\n",
              "    </tr>\n",
              "    <tr>\n",
              "      <th>1623</th>\n",
              "      <td>zoya khan</td>\n",
              "      <td>//upload.wikimedia.org/wikipedia/commons/thumb...</td>\n",
              "      <td>https://en.wikipedia.org/wiki/Zoya_Khan</td>\n",
              "    </tr>\n",
              "    <tr>\n",
              "      <th>308</th>\n",
              "      <td>zubeen garg</td>\n",
              "      <td>//upload.wikimedia.org/wikipedia/commons/thumb...</td>\n",
              "      <td>https://en.wikipedia.org/wiki/Zubeen_Garg</td>\n",
              "    </tr>\n",
              "    <tr>\n",
              "      <th>1624</th>\n",
              "      <td>zubeida</td>\n",
              "      <td>//upload.wikimedia.org/wikipedia/commons/9/97/...</td>\n",
              "      <td>https://en.wikipedia.org/wiki/Zubeida</td>\n",
              "    </tr>\n",
              "    <tr>\n",
              "      <th>1035</th>\n",
              "      <td>zulfi syed</td>\n",
              "      <td>//upload.wikimedia.org/wikipedia/commons/thumb...</td>\n",
              "      <td>https://en.wikipedia.org/wiki/Zulfi_Syed</td>\n",
              "    </tr>\n",
              "  </tbody>\n",
              "</table>\n",
              "<p>1425 rows × 3 columns</p>\n",
              "</div>"
            ],
            "text/plain": [
              "           Celebrity  ...                                           Bio\n",
              "37      a. k. hangal  ...    https://en.wikipedia.org/wiki/A._K._Hangal\n",
              "310            aadhi  ...           https://en.wikipedia.org/wiki/Aadhi\n",
              "311   aadi pudipeddi  ...  https://en.wikipedia.org/wiki/Aadi_Pudipeddi\n",
              "51      aamir bashir  ...    https://en.wikipedia.org/wiki/Aamir_Bashir\n",
              "0         aamir khan  ...      https://en.wikipedia.org/wiki/Aamir_Khan\n",
              "...              ...  ...                                           ...\n",
              "1033  zeishan quadri  ...  https://en.wikipedia.org/wiki/Zeishan_Quadri\n",
              "1623       zoya khan  ...       https://en.wikipedia.org/wiki/Zoya_Khan\n",
              "308      zubeen garg  ...     https://en.wikipedia.org/wiki/Zubeen_Garg\n",
              "1624         zubeida  ...         https://en.wikipedia.org/wiki/Zubeida\n",
              "1035      zulfi syed  ...      https://en.wikipedia.org/wiki/Zulfi_Syed\n",
              "\n",
              "[1425 rows x 3 columns]"
            ]
          },
          "metadata": {
            "tags": []
          },
          "execution_count": 8
        }
      ]
    }
  ]
}