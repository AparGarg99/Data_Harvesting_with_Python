{
 "cells": [
  {
   "cell_type": "code",
   "execution_count": 2,
   "id": "14f62e57",
   "metadata": {},
   "outputs": [],
   "source": [
    "from fake_useragent import UserAgent\n",
    "from selenium import webdriver\n",
    "from selenium.webdriver import Chrome\n",
    "from selenium.webdriver.common.action_chains import ActionChains\n",
    "from selenium.webdriver.common.by import By\n",
    "from selenium.webdriver.common.keys import Keys\n",
    "from selenium.webdriver.support import expected_conditions as EC\n",
    "from selenium.webdriver.support.ui import WebDriverWait\n",
    "from webdriver_manager.chrome import ChromeDriverManager\n",
    "import bs4\n",
    "import pandas as pd\n",
    "import time\n",
    "import undetected_chromedriver as uc\n",
    "import argparse\n",
    "import random\n",
    "import urllib3\n",
    "import warnings\n",
    "urllib3.disable_warnings(urllib3.exceptions.InsecureRequestWarning)\n",
    "warnings.filterwarnings(\"ignore\")\n",
    "\n",
    "\n",
    "def random_time_delay():\n",
    "    time.sleep(random.uniform(60,80))\n",
    "\n",
    "\n",
    "def open_driver(): \n",
    "    ua = UserAgent()\n",
    "    chrome_options = uc.ChromeOptions()\n",
    "    chrome_options.add_argument(\"--window-size=1920,1080\")\n",
    "    chrome_options.add_argument(\"--disable-extensions\")\n",
    "    chrome_options.add_argument('--disable-notifications')\n",
    "    chrome_options.add_argument(\"--mute-audio\")\n",
    "    chrome_options.add_argument(\"--start-maximized\")\n",
    "    chrome_options.add_argument('--disable-gpu')\n",
    "    chrome_options.add_argument('--disable-dev-shm-usage')\n",
    "    chrome_options.add_argument('--no-sandbox')\n",
    "    chrome_options.add_argument('--ignore-certificate-errors')\n",
    "    #chrome_options.add_argument(f\"user-agent={ua['google chrome']}\")\n",
    "\n",
    "    driver = uc.Chrome(executable_path=ChromeDriverManager().install(), options=chrome_options)\n",
    "    \n",
    "    return driver\n",
    "\n",
    "\n",
    "def login(driver, username, password):  \n",
    "    # go to login page\n",
    "    driver.get(\"https://www.instagram.com\")\n",
    "    random_time_delay()\n",
    "\n",
    "    # Type username\n",
    "    emailid = WebDriverWait(driver, 20).until(EC.presence_of_element_located((By.NAME, \"username\"))) \n",
    "    emailid.send_keys(username)\n",
    "    random_time_delay()\n",
    "\n",
    "    # Type password\n",
    "    passwordid = WebDriverWait(driver, 20).until(EC.presence_of_element_located((By.NAME, \"password\")))\n",
    "    passwordid.send_keys(password)\n",
    "    random_time_delay()\n",
    "\n",
    "    # Click on the signin button\n",
    "    signinButton = WebDriverWait(driver, 20).until(EC.presence_of_element_located((By.XPATH, '//*[@id=\"loginForm\"]/div/div[3]/button/div')))\n",
    "    ActionChains(driver).move_to_element(signinButton).click().perform()\n",
    "    random_time_delay()\n",
    "    \n",
    "    return driver\n",
    "\n",
    "\n",
    "def filter_chats(driver):\n",
    "    all_chats = driver.find_elements_by_css_selector('div[class=\" _ab8s _ab8w  _ab94 _ab99 _ab9f _ab9m _ab9p _abcm\"]')\n",
    "    print('\\tTotal Chats:',len(all_chats)) \n",
    "    result = list(filter(lambda i: i.find_elements_by_css_selector('div[class=\"_ab8w  _ab94 _ab97 _ab9h _ab9k _ab9p  _abb0 _abcm\"]')==[], all_chats)) # unseen blue dot\n",
    "    print('\\tSelected Chats:', len(result))\n",
    "    return result\n",
    "\n",
    "\n",
    "\n",
    "def get_last_msg(driver, chats):\n",
    "    df = []\n",
    "    \n",
    "    for i in chats:\n",
    "        try:\n",
    "            # Click on the chat\n",
    "            i.click()\n",
    "            random_time_delay()\n",
    "\n",
    "            # Get the username\n",
    "            user = driver.find_element_by_css_selector('button[class=\"_acan _acao _acaq _acat\"]').text\n",
    "            user = user.split('\\n')[0]\n",
    "            \n",
    "            # Get last message\n",
    "            source = driver.page_source\n",
    "            soup = bs4.BeautifulSoup(source, 'html.parser')\n",
    "            msgs = [i.text for i in soup.find_all('div',{'class':'_aacl _aaco _aacu _aacx _aad6 _aade'})]\n",
    "\n",
    "            # Go back to the main inbox page\n",
    "            driver.back()\n",
    "            random_time_delay()\n",
    "\n",
    "            df.append([user,msgs[-1]])\n",
    "            print([user,msgs[-1]])\n",
    "\n",
    "        except Exception as e:\n",
    "            print(e)\n",
    "            #print('Non-text modal encountered')\n",
    "            pass\n",
    "\n",
    "        \n",
    "    df2 = pd.DataFrame(df,columns = ['User','Last Message'])\n",
    "    \n",
    "    return df2"
   ]
  },
  {
   "cell_type": "code",
   "execution_count": 3,
   "id": "16ced321",
   "metadata": {},
   "outputs": [
    {
     "data": {
      "text/html": [
       "<div>\n",
       "<style scoped>\n",
       "    .dataframe tbody tr th:only-of-type {\n",
       "        vertical-align: middle;\n",
       "    }\n",
       "\n",
       "    .dataframe tbody tr th {\n",
       "        vertical-align: top;\n",
       "    }\n",
       "\n",
       "    .dataframe thead th {\n",
       "        text-align: right;\n",
       "    }\n",
       "</style>\n",
       "<table border=\"1\" class=\"dataframe\">\n",
       "  <thead>\n",
       "    <tr style=\"text-align: right;\">\n",
       "      <th></th>\n",
       "      <th>Channel</th>\n",
       "      <th>Saved data</th>\n",
       "      <th>Post url</th>\n",
       "      <th>Post user</th>\n",
       "    </tr>\n",
       "  </thead>\n",
       "  <tbody>\n",
       "    <tr>\n",
       "      <th>0</th>\n",
       "      <td>https://www.instagram.com/melanomareportgroup</td>\n",
       "      <td>[['https://www.instagram.com/p/Bkfp6z-F6kvYxU6...</td>\n",
       "      <td>[</td>\n",
       "      <td>[</td>\n",
       "    </tr>\n",
       "    <tr>\n",
       "      <th>1</th>\n",
       "      <td>https://www.instagram.com/melanomareportgroup</td>\n",
       "      <td>[['https://www.instagram.com/p/BzfD8Zgl0_0AbYp...</td>\n",
       "      <td>[</td>\n",
       "      <td>[</td>\n",
       "    </tr>\n",
       "    <tr>\n",
       "      <th>2</th>\n",
       "      <td>https://www.instagram.com/melanomareportgroup</td>\n",
       "      <td>[['https://www.instagram.com/p/Bkfp6z-F6kvYxU6...</td>\n",
       "      <td>[</td>\n",
       "      <td>[</td>\n",
       "    </tr>\n",
       "    <tr>\n",
       "      <th>3</th>\n",
       "      <td>https://www.instagram.com/melanomareportgroup</td>\n",
       "      <td>[['https://www.instagram.com/p/BzfD8Zgl0_0AbYp...</td>\n",
       "      <td>[</td>\n",
       "      <td>[</td>\n",
       "    </tr>\n",
       "    <tr>\n",
       "      <th>4</th>\n",
       "      <td>https://www.instagram.com/guygonehostile</td>\n",
       "      <td>[['https://www.instagram.com/p/CfWUS-sPhgx9f8N...</td>\n",
       "      <td>[</td>\n",
       "      <td>[</td>\n",
       "    </tr>\n",
       "  </tbody>\n",
       "</table>\n",
       "</div>"
      ],
      "text/plain": [
       "                                         Channel  \\\n",
       "0  https://www.instagram.com/melanomareportgroup   \n",
       "1  https://www.instagram.com/melanomareportgroup   \n",
       "2  https://www.instagram.com/melanomareportgroup   \n",
       "3  https://www.instagram.com/melanomareportgroup   \n",
       "4       https://www.instagram.com/guygonehostile   \n",
       "\n",
       "                                          Saved data Post url Post user  \n",
       "0  [['https://www.instagram.com/p/Bkfp6z-F6kvYxU6...        [         [  \n",
       "1  [['https://www.instagram.com/p/BzfD8Zgl0_0AbYp...        [         [  \n",
       "2  [['https://www.instagram.com/p/Bkfp6z-F6kvYxU6...        [         [  \n",
       "3  [['https://www.instagram.com/p/BzfD8Zgl0_0AbYp...        [         [  \n",
       "4  [['https://www.instagram.com/p/CfWUS-sPhgx9f8N...        [         [  "
      ]
     },
     "execution_count": 3,
     "metadata": {},
     "output_type": "execute_result"
    }
   ],
   "source": [
    "df2 = pd.read_csv('test_output_csv_files/saved_output.csv')\n",
    "df2"
   ]
  },
  {
   "cell_type": "code",
   "execution_count": 14,
   "id": "e0920ccc",
   "metadata": {},
   "outputs": [],
   "source": [
    "import glob"
   ]
  },
  {
   "cell_type": "code",
   "execution_count": 15,
   "id": "f1b2389f",
   "metadata": {},
   "outputs": [],
   "source": [
    "csv_files = glob.glob(f'saved_checkpoints/*')\n",
    "df2 = [pd.read_csv(i) for i in csv_files]\n",
    "df2 = pd.concat(df2, ignore_index=True)\n",
    "df2['Saved data'] = df2['Saved data'].apply(lambda x: eval(x))"
   ]
  },
  {
   "cell_type": "code",
   "execution_count": 16,
   "id": "d4670f16",
   "metadata": {},
   "outputs": [
    {
     "data": {
      "text/html": [
       "<div>\n",
       "<style scoped>\n",
       "    .dataframe tbody tr th:only-of-type {\n",
       "        vertical-align: middle;\n",
       "    }\n",
       "\n",
       "    .dataframe tbody tr th {\n",
       "        vertical-align: top;\n",
       "    }\n",
       "\n",
       "    .dataframe thead th {\n",
       "        text-align: right;\n",
       "    }\n",
       "</style>\n",
       "<table border=\"1\" class=\"dataframe\">\n",
       "  <thead>\n",
       "    <tr style=\"text-align: right;\">\n",
       "      <th></th>\n",
       "      <th>Channel</th>\n",
       "      <th>Saved data</th>\n",
       "    </tr>\n",
       "  </thead>\n",
       "  <tbody>\n",
       "    <tr>\n",
       "      <th>0</th>\n",
       "      <td>https://www.instagram.com/melanomareportgroup</td>\n",
       "      <td>[[https://www.instagram.com/p/Bkfp6z-F6kvYxU6s...</td>\n",
       "    </tr>\n",
       "    <tr>\n",
       "      <th>1</th>\n",
       "      <td>https://www.instagram.com/melanomareportgroup</td>\n",
       "      <td>[[https://www.instagram.com/p/BzfD8Zgl0_0AbYpu...</td>\n",
       "    </tr>\n",
       "    <tr>\n",
       "      <th>2</th>\n",
       "      <td>https://www.instagram.com/melanomareportgroup</td>\n",
       "      <td>[[https://www.instagram.com/p/Bkfp6z-F6kvYxU6s...</td>\n",
       "    </tr>\n",
       "    <tr>\n",
       "      <th>3</th>\n",
       "      <td>https://www.instagram.com/melanomareportgroup</td>\n",
       "      <td>[[https://www.instagram.com/p/BzfD8Zgl0_0AbYpu...</td>\n",
       "    </tr>\n",
       "    <tr>\n",
       "      <th>4</th>\n",
       "      <td>https://www.instagram.com/guygonehostile</td>\n",
       "      <td>[[https://www.instagram.com/p/CfWUS-sPhgx9f8Ne...</td>\n",
       "    </tr>\n",
       "  </tbody>\n",
       "</table>\n",
       "</div>"
      ],
      "text/plain": [
       "                                         Channel  \\\n",
       "0  https://www.instagram.com/melanomareportgroup   \n",
       "1  https://www.instagram.com/melanomareportgroup   \n",
       "2  https://www.instagram.com/melanomareportgroup   \n",
       "3  https://www.instagram.com/melanomareportgroup   \n",
       "4       https://www.instagram.com/guygonehostile   \n",
       "\n",
       "                                          Saved data  \n",
       "0  [[https://www.instagram.com/p/Bkfp6z-F6kvYxU6s...  \n",
       "1  [[https://www.instagram.com/p/BzfD8Zgl0_0AbYpu...  \n",
       "2  [[https://www.instagram.com/p/Bkfp6z-F6kvYxU6s...  \n",
       "3  [[https://www.instagram.com/p/BzfD8Zgl0_0AbYpu...  \n",
       "4  [[https://www.instagram.com/p/CfWUS-sPhgx9f8Ne...  "
      ]
     },
     "execution_count": 16,
     "metadata": {},
     "output_type": "execute_result"
    }
   ],
   "source": [
    "df2"
   ]
  },
  {
   "cell_type": "code",
   "execution_count": 17,
   "id": "1698512c",
   "metadata": {},
   "outputs": [],
   "source": [
    "df2 = df2.explode('Saved data', ignore_index=True)\n",
    "df2['Post url'] = df2['Saved data'].apply(lambda x: x[0])\n",
    "df2['Post user'] = df2['Saved data'].apply(lambda x: x[1])"
   ]
  },
  {
   "cell_type": "code",
   "execution_count": 8,
   "id": "3e37dd10",
   "metadata": {},
   "outputs": [
    {
     "data": {
      "text/plain": [
       "[['https://www.instagram.com/p/B8GDWGhl8ADUAvT-YMw0q1vxVzx8t_UzERsi-k0/',\n",
       "  'https://www.instagram.com/guygonehostile'],\n",
       " ['https://www.instagram.com/p/B8q7rzoFlEwqri0-1n-G67ByulE9kdjzw2NZz00/',\n",
       "  'https://www.instagram.com/guygonehostile']]"
      ]
     },
     "execution_count": 8,
     "metadata": {},
     "output_type": "execute_result"
    }
   ],
   "source": [
    "df2['Saved data'][0]"
   ]
  },
  {
   "cell_type": "code",
   "execution_count": 19,
   "id": "db410d8e",
   "metadata": {},
   "outputs": [],
   "source": [
    "df2.to_csv('test_output_csv_files/saved_output.csv',index=False)"
   ]
  },
  {
   "cell_type": "code",
   "execution_count": 18,
   "id": "4858aafd",
   "metadata": {},
   "outputs": [
    {
     "data": {
      "text/html": [
       "<div>\n",
       "<style scoped>\n",
       "    .dataframe tbody tr th:only-of-type {\n",
       "        vertical-align: middle;\n",
       "    }\n",
       "\n",
       "    .dataframe tbody tr th {\n",
       "        vertical-align: top;\n",
       "    }\n",
       "\n",
       "    .dataframe thead th {\n",
       "        text-align: right;\n",
       "    }\n",
       "</style>\n",
       "<table border=\"1\" class=\"dataframe\">\n",
       "  <thead>\n",
       "    <tr style=\"text-align: right;\">\n",
       "      <th></th>\n",
       "      <th>Channel</th>\n",
       "      <th>Post url</th>\n",
       "      <th>Post user</th>\n",
       "    </tr>\n",
       "  </thead>\n",
       "  <tbody>\n",
       "    <tr>\n",
       "      <th>0</th>\n",
       "      <td>https://www.instagram.com/melanomareportgroup</td>\n",
       "      <td>https://www.instagram.com/p/Bkfp6z-F6kvYxU6snq...</td>\n",
       "      <td>https://www.instagram.com/guygonehostile</td>\n",
       "    </tr>\n",
       "    <tr>\n",
       "      <th>1</th>\n",
       "      <td>https://www.instagram.com/melanomareportgroup</td>\n",
       "      <td>https://www.instagram.com/p/BzfD8Zgl0_0AbYpuIa...</td>\n",
       "      <td>https://www.instagram.com/guygonehostile</td>\n",
       "    </tr>\n",
       "    <tr>\n",
       "      <th>6</th>\n",
       "      <td>https://www.instagram.com/guygonehostile</td>\n",
       "      <td>https://www.instagram.com/p/CfWUS-sPhgx9f8NeVl...</td>\n",
       "      <td>https://www.instagram.com/harsh.aryaa</td>\n",
       "    </tr>\n",
       "    <tr>\n",
       "      <th>7</th>\n",
       "      <td>https://www.instagram.com/guygonehostile</td>\n",
       "      <td>https://www.instagram.com/p/ChXQTfNAYWgAxyGiAN...</td>\n",
       "      <td>https://www.instagram.com/harsh.aryaa</td>\n",
       "    </tr>\n",
       "  </tbody>\n",
       "</table>\n",
       "</div>"
      ],
      "text/plain": [
       "                                         Channel  \\\n",
       "0  https://www.instagram.com/melanomareportgroup   \n",
       "1  https://www.instagram.com/melanomareportgroup   \n",
       "6       https://www.instagram.com/guygonehostile   \n",
       "7       https://www.instagram.com/guygonehostile   \n",
       "\n",
       "                                            Post url  \\\n",
       "0  https://www.instagram.com/p/Bkfp6z-F6kvYxU6snq...   \n",
       "1  https://www.instagram.com/p/BzfD8Zgl0_0AbYpuIa...   \n",
       "6  https://www.instagram.com/p/CfWUS-sPhgx9f8NeVl...   \n",
       "7  https://www.instagram.com/p/ChXQTfNAYWgAxyGiAN...   \n",
       "\n",
       "                                  Post user  \n",
       "0  https://www.instagram.com/guygonehostile  \n",
       "1  https://www.instagram.com/guygonehostile  \n",
       "6     https://www.instagram.com/harsh.aryaa  \n",
       "7     https://www.instagram.com/harsh.aryaa  "
      ]
     },
     "execution_count": 18,
     "metadata": {},
     "output_type": "execute_result"
    }
   ],
   "source": [
    "df2 = df2.drop('Saved data',axis=1).drop_duplicates()\n",
    "df2"
   ]
  },
  {
   "cell_type": "code",
   "execution_count": 12,
   "id": "eb208420",
   "metadata": {},
   "outputs": [
    {
     "name": "stdout",
     "output_type": "stream",
     "text": [
      "https://www.instagram.com/p/Bkfp6z-F6kvYxU6snqUE35r9l8V-h2z24Y6-gs0/\n",
      "https://www.instagram.com/p/BzfD8Zgl0_0AbYpuIa132lhG1V1Lmzv-b6SWQU0/\n",
      "https://www.instagram.com/p/CfWUS-sPhgx9f8NeVl1y2ynvcTzk-J0CwYVTRA0/\n",
      "https://www.instagram.com/p/ChXQTfNAYWgAxyGiANykny3uVNJIC0ra8StAcI0/\n"
     ]
    }
   ],
   "source": [
    "for i in df2['Post url']:\n",
    "    print(i)"
   ]
  },
  {
   "cell_type": "code",
   "execution_count": 12,
   "id": "b4b54324",
   "metadata": {},
   "outputs": [],
   "source": [
    "df2.explode??"
   ]
  },
  {
   "cell_type": "code",
   "execution_count": 21,
   "id": "09dd5c79",
   "metadata": {},
   "outputs": [],
   "source": [
    "pd.concat??"
   ]
  },
  {
   "cell_type": "code",
   "execution_count": 20,
   "id": "9f729b9d",
   "metadata": {},
   "outputs": [
    {
     "data": {
      "text/plain": [
       "'https://www.instagram.com/p/B8q7rzoFlEwqri0-1n-G67ByulE9kdjzw2NZz00/'"
      ]
     },
     "execution_count": 20,
     "metadata": {},
     "output_type": "execute_result"
    }
   ],
   "source": [
    "df2['post url'][1]"
   ]
  },
  {
   "cell_type": "code",
   "execution_count": 9,
   "id": "fabc5062",
   "metadata": {},
   "outputs": [
    {
     "name": "stdout",
     "output_type": "stream",
     "text": [
      "\tTotal Chats: 10\n",
      "\tSelected Chats: 9\n",
      "['Harsh Arya\\nActive now', 'You']\n",
      "['Mehul Goel\\nActive 50m ago', 'More']\n",
      "['Trisha Rai', 'ok sure n-e-r-d']\n",
      "['Shourya Kuchhal', 'woah!!🔥']\n",
      "['ankit panda', 'konsi website haii ye?']\n"
     ]
    },
    {
     "ename": "KeyboardInterrupt",
     "evalue": "",
     "output_type": "error",
     "traceback": [
      "\u001b[1;31m---------------------------------------------------------------------------\u001b[0m",
      "\u001b[1;31mKeyboardInterrupt\u001b[0m                         Traceback (most recent call last)",
      "Input \u001b[1;32mIn [9]\u001b[0m, in \u001b[0;36m<cell line: 6>\u001b[1;34m()\u001b[0m\n\u001b[0;32m     24\u001b[0m chats \u001b[38;5;241m=\u001b[39m filter_chats(driver)\n\u001b[0;32m     26\u001b[0m \u001b[38;5;66;03m# Get last message in the seen chats\u001b[39;00m\n\u001b[1;32m---> 27\u001b[0m df \u001b[38;5;241m=\u001b[39m \u001b[43mget_last_msg\u001b[49m\u001b[43m(\u001b[49m\u001b[43mdriver\u001b[49m\u001b[43m,\u001b[49m\u001b[43m \u001b[49m\u001b[43mchats\u001b[49m\u001b[43m)\u001b[49m\n\u001b[0;32m     28\u001b[0m df[\u001b[38;5;124m'\u001b[39m\u001b[38;5;124mLogin Username\u001b[39m\u001b[38;5;124m'\u001b[39m] \u001b[38;5;241m=\u001b[39m username\n\u001b[0;32m     29\u001b[0m \u001b[38;5;28mprint\u001b[39m(df\u001b[38;5;241m.\u001b[39mhead(\u001b[38;5;241m5\u001b[39m)\u001b[38;5;241m.\u001b[39mto_string())\n",
      "Input \u001b[1;32mIn [8]\u001b[0m, in \u001b[0;36mget_last_msg\u001b[1;34m(driver, chats)\u001b[0m\n\u001b[0;32m     94\u001b[0m \u001b[38;5;66;03m# Go back to the main inbox page\u001b[39;00m\n\u001b[0;32m     95\u001b[0m driver\u001b[38;5;241m.\u001b[39mback()\n\u001b[1;32m---> 96\u001b[0m \u001b[43mrandom_time_delay\u001b[49m\u001b[43m(\u001b[49m\u001b[43m)\u001b[49m\n\u001b[0;32m     98\u001b[0m df\u001b[38;5;241m.\u001b[39mappend([user,msgs[\u001b[38;5;241m-\u001b[39m\u001b[38;5;241m1\u001b[39m]])\n\u001b[0;32m     99\u001b[0m \u001b[38;5;28mprint\u001b[39m([user,msgs[\u001b[38;5;241m-\u001b[39m\u001b[38;5;241m1\u001b[39m]])\n",
      "Input \u001b[1;32mIn [8]\u001b[0m, in \u001b[0;36mrandom_time_delay\u001b[1;34m()\u001b[0m\n\u001b[0;32m     22\u001b[0m \u001b[38;5;28;01mdef\u001b[39;00m \u001b[38;5;21mrandom_time_delay\u001b[39m():\n\u001b[1;32m---> 23\u001b[0m     \u001b[43mtime\u001b[49m\u001b[38;5;241;43m.\u001b[39;49m\u001b[43msleep\u001b[49m\u001b[43m(\u001b[49m\u001b[43mrandom\u001b[49m\u001b[38;5;241;43m.\u001b[39;49m\u001b[43muniform\u001b[49m\u001b[43m(\u001b[49m\u001b[38;5;241;43m60\u001b[39;49m\u001b[43m,\u001b[49m\u001b[38;5;241;43m80\u001b[39;49m\u001b[43m)\u001b[49m\u001b[43m)\u001b[49m\n",
      "\u001b[1;31mKeyboardInterrupt\u001b[0m: "
     ]
    }
   ],
   "source": [
    "credentials = pd.read_csv('test_input_csv_files/Msg_input.csv')\n",
    "\n",
    "########################################## Scrape ##########################################\n",
    "df3 = []\n",
    "\n",
    "try:\n",
    "    # open browser\n",
    "    #driver = open_driver()\n",
    "\n",
    "    # get instagram login credentials\n",
    "    username = credentials.iloc[0,0]\n",
    "    password = credentials.iloc[0,1]\n",
    "\n",
    "    # login\n",
    "    #driver = login(driver, username, password)\n",
    "\n",
    "    # open inbox\n",
    "    driver.get('https://www.instagram.com/direct/inbox/')\n",
    "    random_time_delay()\n",
    "\n",
    "    # Infinite scrolling\n",
    "\n",
    "    # Get seen chats only\n",
    "    chats = filter_chats(driver)\n",
    "\n",
    "    # Get last message in the seen chats\n",
    "    df = get_last_msg(driver, chats)\n",
    "    df['Login Username'] = username\n",
    "    print(df.head(5).to_string())\n",
    "\n",
    "    df3.append(df)\n",
    "\n",
    "    print('*'*100)\n",
    "\n",
    "except Exception as e:\n",
    "    print(e)\n",
    "\n",
    "\n",
    "df4 = pd.DataFrame(df3)\n",
    "print(df4.head())\n",
    "\n",
    "#df4.to_csv('test_output_csv_files/Msg_output.csv',index=False)"
   ]
  },
  {
   "cell_type": "code",
   "execution_count": 5,
   "id": "31057f02",
   "metadata": {},
   "outputs": [
    {
     "data": {
      "text/plain": [
       "[]"
      ]
     },
     "execution_count": 5,
     "metadata": {},
     "output_type": "execute_result"
    }
   ],
   "source": [
    "df3"
   ]
  },
  {
   "cell_type": "code",
   "execution_count": 7,
   "id": "0f9258af",
   "metadata": {},
   "outputs": [
    {
     "data": {
      "text/plain": [
       "'Shourya Kuchhal'"
      ]
     },
     "execution_count": 7,
     "metadata": {},
     "output_type": "execute_result"
    }
   ],
   "source": [
    "driver.find_element_by_css_selector('button[class=\"_acan _acao _acaq _acat\"]').text"
   ]
  },
  {
   "cell_type": "code",
   "execution_count": 11,
   "id": "086212d9",
   "metadata": {},
   "outputs": [
    {
     "data": {
      "text/plain": [
       "'Trisha Rai'"
      ]
     },
     "execution_count": 11,
     "metadata": {},
     "output_type": "execute_result"
    }
   ],
   "source": [
    "\n",
    "user = 'Trisha Rai'\n",
    "user = user.split('\\n')[0]\n",
    "user"
   ]
  },
  {
   "cell_type": "code",
   "execution_count": 12,
   "id": "e7698848",
   "metadata": {},
   "outputs": [],
   "source": [
    "df =[['Harsh Arya\\nActive now', 'You'],\n",
    "['Mehul Goel\\nActive 50m ago', 'More'],\n",
    "['Trisha Rai', 'ok sure n-e-r-d'],\n",
    "['Shourya Kuchhal', 'woah!!🔥'],\n",
    "['ankit panda', 'konsi website haii ye?']]"
   ]
  },
  {
   "cell_type": "code",
   "execution_count": 13,
   "id": "55967ba7",
   "metadata": {},
   "outputs": [
    {
     "data": {
      "text/html": [
       "<div>\n",
       "<style scoped>\n",
       "    .dataframe tbody tr th:only-of-type {\n",
       "        vertical-align: middle;\n",
       "    }\n",
       "\n",
       "    .dataframe tbody tr th {\n",
       "        vertical-align: top;\n",
       "    }\n",
       "\n",
       "    .dataframe thead th {\n",
       "        text-align: right;\n",
       "    }\n",
       "</style>\n",
       "<table border=\"1\" class=\"dataframe\">\n",
       "  <thead>\n",
       "    <tr style=\"text-align: right;\">\n",
       "      <th></th>\n",
       "      <th>User</th>\n",
       "      <th>Last Message</th>\n",
       "    </tr>\n",
       "  </thead>\n",
       "  <tbody>\n",
       "    <tr>\n",
       "      <th>0</th>\n",
       "      <td>Harsh Arya\\nActive now</td>\n",
       "      <td>You</td>\n",
       "    </tr>\n",
       "    <tr>\n",
       "      <th>1</th>\n",
       "      <td>Mehul Goel\\nActive 50m ago</td>\n",
       "      <td>More</td>\n",
       "    </tr>\n",
       "    <tr>\n",
       "      <th>2</th>\n",
       "      <td>Trisha Rai</td>\n",
       "      <td>ok sure n-e-r-d</td>\n",
       "    </tr>\n",
       "    <tr>\n",
       "      <th>3</th>\n",
       "      <td>Shourya Kuchhal</td>\n",
       "      <td>woah!!🔥</td>\n",
       "    </tr>\n",
       "    <tr>\n",
       "      <th>4</th>\n",
       "      <td>ankit panda</td>\n",
       "      <td>konsi website haii ye?</td>\n",
       "    </tr>\n",
       "  </tbody>\n",
       "</table>\n",
       "</div>"
      ],
      "text/plain": [
       "                         User            Last Message\n",
       "0      Harsh Arya\\nActive now                     You\n",
       "1  Mehul Goel\\nActive 50m ago                    More\n",
       "2                  Trisha Rai         ok sure n-e-r-d\n",
       "3             Shourya Kuchhal                 woah!!🔥\n",
       "4                 ankit panda  konsi website haii ye?"
      ]
     },
     "execution_count": 13,
     "metadata": {},
     "output_type": "execute_result"
    }
   ],
   "source": [
    "df2 = pd.DataFrame(df,columns = ['User','Last Message'])\n",
    "df2"
   ]
  },
  {
   "cell_type": "code",
   "execution_count": 14,
   "id": "96d45d11",
   "metadata": {},
   "outputs": [
    {
     "data": {
      "text/plain": [
       "['woah!!', '🔥']"
      ]
     },
     "execution_count": 14,
     "metadata": {},
     "output_type": "execute_result"
    }
   ],
   "source": [
    "'woah!! 🔥'.split()"
   ]
  },
  {
   "cell_type": "code",
   "execution_count": 1,
   "id": "27599c70",
   "metadata": {},
   "outputs": [
    {
     "ename": "ModuleNotFoundError",
     "evalue": "No module named 'fake_useragent'",
     "output_type": "error",
     "traceback": [
      "\u001b[1;31m---------------------------------------------------------------------------\u001b[0m",
      "\u001b[1;31mModuleNotFoundError\u001b[0m                       Traceback (most recent call last)",
      "\u001b[1;32m<ipython-input-1-7ea021586313>\u001b[0m in \u001b[0;36m<module>\u001b[1;34m\u001b[0m\n\u001b[1;32m----> 1\u001b[1;33m \u001b[1;32mfrom\u001b[0m \u001b[0mfake_useragent\u001b[0m \u001b[1;32mimport\u001b[0m \u001b[0mUserAgent\u001b[0m\u001b[1;33m\u001b[0m\u001b[1;33m\u001b[0m\u001b[0m\n\u001b[0m\u001b[0;32m      2\u001b[0m \u001b[1;32mfrom\u001b[0m \u001b[0mselenium\u001b[0m \u001b[1;32mimport\u001b[0m \u001b[0mwebdriver\u001b[0m\u001b[1;33m\u001b[0m\u001b[1;33m\u001b[0m\u001b[0m\n\u001b[0;32m      3\u001b[0m \u001b[1;32mfrom\u001b[0m \u001b[0mselenium\u001b[0m\u001b[1;33m.\u001b[0m\u001b[0mwebdriver\u001b[0m \u001b[1;32mimport\u001b[0m \u001b[0mChrome\u001b[0m\u001b[1;33m\u001b[0m\u001b[1;33m\u001b[0m\u001b[0m\n\u001b[0;32m      4\u001b[0m \u001b[1;32mfrom\u001b[0m \u001b[0mselenium\u001b[0m\u001b[1;33m.\u001b[0m\u001b[0mwebdriver\u001b[0m\u001b[1;33m.\u001b[0m\u001b[0mcommon\u001b[0m\u001b[1;33m.\u001b[0m\u001b[0maction_chains\u001b[0m \u001b[1;32mimport\u001b[0m \u001b[0mActionChains\u001b[0m\u001b[1;33m\u001b[0m\u001b[1;33m\u001b[0m\u001b[0m\n\u001b[0;32m      5\u001b[0m \u001b[1;32mfrom\u001b[0m \u001b[0mselenium\u001b[0m\u001b[1;33m.\u001b[0m\u001b[0mwebdriver\u001b[0m\u001b[1;33m.\u001b[0m\u001b[0mcommon\u001b[0m\u001b[1;33m.\u001b[0m\u001b[0mby\u001b[0m \u001b[1;32mimport\u001b[0m \u001b[0mBy\u001b[0m\u001b[1;33m\u001b[0m\u001b[1;33m\u001b[0m\u001b[0m\n",
      "\u001b[1;31mModuleNotFoundError\u001b[0m: No module named 'fake_useragent'"
     ]
    }
   ],
   "source": [
    "from fake_useragent import UserAgent\n",
    "from selenium import webdriver\n",
    "from selenium.webdriver import Chrome\n",
    "from selenium.webdriver.common.action_chains import ActionChains\n",
    "from selenium.webdriver.common.by import By\n",
    "from selenium.webdriver.common.keys import Keys\n",
    "from selenium.webdriver.support import expected_conditions as EC\n",
    "from selenium.webdriver.support.ui import WebDriverWait\n",
    "from webdriver_manager.chrome import ChromeDriverManager\n",
    "import bs4\n",
    "import pandas as pd\n",
    "import time\n",
    "import undetected_chromedriver as uc\n",
    "import argparse\n",
    "import random\n",
    "import urllib3\n",
    "import warnings\n",
    "urllib3.disable_warnings(urllib3.exceptions.InsecureRequestWarning)\n",
    "warnings.filterwarnings(\"ignore\")"
   ]
  },
  {
   "cell_type": "code",
   "execution_count": 2,
   "id": "cefda6f4",
   "metadata": {},
   "outputs": [],
   "source": [
    "credentials = pd.read_csv('test_input_csv_files/Msg_input2.csv')"
   ]
  },
  {
   "cell_type": "code",
   "execution_count": 3,
   "id": "97f857e7",
   "metadata": {},
   "outputs": [],
   "source": [
    "def random_time_delay():\n",
    "    time.sleep(random.uniform(60,80))\n",
    "\n",
    "\n",
    "def open_driver(): \n",
    "    ua = UserAgent()\n",
    "    chrome_options = uc.ChromeOptions()\n",
    "    chrome_options.add_argument(\"--window-size=1920,1080\")\n",
    "    chrome_options.add_argument(\"--disable-extensions\")\n",
    "    chrome_options.add_argument('--disable-notifications')\n",
    "    chrome_options.add_argument(\"--mute-audio\")\n",
    "    chrome_options.add_argument(\"--start-maximized\")\n",
    "    chrome_options.add_argument('--disable-gpu')\n",
    "    chrome_options.add_argument('--disable-dev-shm-usage')\n",
    "    chrome_options.add_argument('--no-sandbox')\n",
    "    chrome_options.add_argument('--ignore-certificate-errors')\n",
    "    #chrome_options.add_argument(f\"user-agent={ua['google chrome']}\")\n",
    "\n",
    "    driver = uc.Chrome(executable_path=ChromeDriverManager().install(), options=chrome_options)\n",
    "    \n",
    "    return driver\n",
    "\n",
    "\n",
    "def login(driver, username, password):  \n",
    "    # go to login page\n",
    "    driver.get(\"https://www.instagram.com\")\n",
    "    random_time_delay()\n",
    "\n",
    "    # Type username\n",
    "    emailid = WebDriverWait(driver, 30).until(EC.presence_of_element_located((By.NAME, \"username\"))) \n",
    "    emailid.send_keys(username)\n",
    "    random_time_delay()\n",
    "\n",
    "    # Type password\n",
    "    passwordid = WebDriverWait(driver, 30).until(EC.presence_of_element_located((By.NAME, \"password\")))\n",
    "    passwordid.send_keys(password)\n",
    "    random_time_delay()\n",
    "\n",
    "    # Click on the signin button\n",
    "    signinButton = WebDriverWait(driver, 20).until(EC.presence_of_element_located((By.XPATH, '//*[@id=\"loginForm\"]/div/div[3]/button/div')))\n",
    "    ActionChains(driver).move_to_element(signinButton).click().perform()\n",
    "    random_time_delay()\n",
    "    \n",
    "    return driver\n",
    "\n",
    "\n",
    "def filter_chats(driver):\n",
    "    all_chats = driver.find_elements_by_css_selector('div[class=\" _ab8s _ab8w  _ab94 _ab99 _ab9f _ab9m _ab9p _abcm\"]')\n",
    "    print('\\tTotal Chats:',len(all_chats)) \n",
    "    result = list(filter(lambda i: i.find_elements_by_css_selector('div[class=\"_ab8w  _ab94 _ab97 _ab9h _ab9k _ab9p  _abb0 _abcm\"]')==[], all_chats)) # unseen blue dot\n",
    "    print('\\tSelected Chats:', len(result))\n",
    "    return result\n",
    "\n",
    "\n",
    "\n",
    "def get_last_msg(driver, chats, word_count):\n",
    "    df = []\n",
    "    \n",
    "    for i in chats:\n",
    "        try:\n",
    "            # Click on the chat\n",
    "            i.click()\n",
    "            random_time_delay()\n",
    "\n",
    "            # Get the username\n",
    "            user = driver.find_element_by_css_selector('button[class=\"_acan _acao _acaq _acat\"]').text.split('\\n')[0].strip()\n",
    "            \n",
    "            # Get last message\n",
    "            source = driver.page_source\n",
    "            soup = bs4.BeautifulSoup(source, 'html.parser')\n",
    "            msgs = [i.text for i in soup.find_all('div',{'class':'_aacl _aaco _aacu _aacx _aad6 _aade'})]\n",
    "            last_msg = msgs[-1]\n",
    "\n",
    "            # Go back to the main inbox page\n",
    "            driver.back()\n",
    "            random_time_delay()\n",
    "\n",
    "            row = [user,last_msg]\n",
    "            print(row)\n",
    "\n",
    "            if(len(last_msg.split())>word_count):\n",
    "                df.append(row)\n",
    "\n",
    "\n",
    "        except Exception as e:\n",
    "            print(e)\n",
    "            #print('Non-text modal encountered')\n",
    "            pass\n",
    "\n",
    "        \n",
    "    df2 = pd.DataFrame(df,columns = ['User','Last Message'])\n",
    "    \n",
    "    return df2"
   ]
  },
  {
   "cell_type": "code",
   "execution_count": 3,
   "id": "9edc5333",
   "metadata": {},
   "outputs": [
    {
     "name": "stdout",
     "output_type": "stream",
     "text": [
      "\n"
     ]
    },
    {
     "name": "stderr",
     "output_type": "stream",
     "text": [
      "[WDM] - ====== WebDriver manager ======\n",
      "[WDM] - Current google-chrome version is 106.0.5249\n",
      "[WDM] - Get LATEST chromedriver version for 106.0.5249 google-chrome\n",
      "[WDM] - Driver [C:\\Users\\aparg\\.wdm\\drivers\\chromedriver\\win32\\106.0.5249.61\\chromedriver.exe] found in cache\n"
     ]
    }
   ],
   "source": [
    "driver = open_driver()"
   ]
  },
  {
   "cell_type": "code",
   "execution_count": 5,
   "id": "e92a4e08",
   "metadata": {},
   "outputs": [
    {
     "data": {
      "text/plain": [
       "'https://www.instagram.com/p/B8q7rzoFlEwqri0-1n-G67ByulE9kdjzw2NZz00/'"
      ]
     },
     "execution_count": 5,
     "metadata": {},
     "output_type": "execute_result"
    }
   ],
   "source": [
    "driver.current_url"
   ]
  },
  {
   "cell_type": "code",
   "execution_count": 6,
   "id": "000579ea",
   "metadata": {},
   "outputs": [
    {
     "ename": "NoSuchElementException",
     "evalue": "Message: no such element: Unable to locate element: {\"method\":\"xpath\",\"selector\":\"//*[@id]/div/div/div/div[2]/div/div/div[1]/div/div[3]/div/div/div/div/div[2]/div/article/div/div[2]/div/div/div[2]/section[1]/span[4]/div/div/button/div/svg/path\"}\n  (Session info: chrome=106.0.5249.91)\nStacktrace:\nBacktrace:\n\tOrdinal0 [0x01031ED3+2236115]\n\tOrdinal0 [0x00FC92F1+1807089]\n\tOrdinal0 [0x00ED66FD+812797]\n\tOrdinal0 [0x00F055DF+1005023]\n\tOrdinal0 [0x00F057CB+1005515]\n\tOrdinal0 [0x00F37632+1209906]\n\tOrdinal0 [0x00F21AD4+1120980]\n\tOrdinal0 [0x00F359E2+1202658]\n\tOrdinal0 [0x00F218A6+1120422]\n\tOrdinal0 [0x00EFA73D+960317]\n\tOrdinal0 [0x00EFB71F+964383]\n\tGetHandleVerifier [0x012DE7E2+2743074]\n\tGetHandleVerifier [0x012D08D4+2685972]\n\tGetHandleVerifier [0x010C2BAA+532202]\n\tGetHandleVerifier [0x010C1990+527568]\n\tOrdinal0 [0x00FD080C+1837068]\n\tOrdinal0 [0x00FD4CD8+1854680]\n\tOrdinal0 [0x00FD4DC5+1854917]\n\tOrdinal0 [0x00FDED64+1895780]\n\tBaseThreadInitThunk [0x75FB6739+25]\n\tRtlGetFullPathName_UEx [0x771C8FD2+1218]\n\tRtlGetFullPathName_UEx [0x771C8F9D+1165]\n",
     "output_type": "error",
     "traceback": [
      "\u001b[1;31m---------------------------------------------------------------------------\u001b[0m",
      "\u001b[1;31mNoSuchElementException\u001b[0m                    Traceback (most recent call last)",
      "Input \u001b[1;32mIn [6]\u001b[0m, in \u001b[0;36m<cell line: 1>\u001b[1;34m()\u001b[0m\n\u001b[1;32m----> 1\u001b[0m \u001b[43mdriver\u001b[49m\u001b[38;5;241;43m.\u001b[39;49m\u001b[43mfind_element_by_xpath\u001b[49m\u001b[43m(\u001b[49m\u001b[38;5;124;43m'\u001b[39;49m\u001b[38;5;124;43m//*[@id]/div/div/div/div[2]/div/div/div[1]/div/div[3]/div/div/div/div/div[2]/div/article/div/div[2]/div/div/div[2]/section[1]/span[4]/div/div/button/div/svg/path\u001b[39;49m\u001b[38;5;124;43m'\u001b[39;49m\u001b[43m)\u001b[49m\n",
      "File \u001b[1;32m~\\anaconda3\\envs\\harsh\\lib\\site-packages\\selenium\\webdriver\\remote\\webdriver.py:526\u001b[0m, in \u001b[0;36mWebDriver.find_element_by_xpath\u001b[1;34m(self, xpath)\u001b[0m\n\u001b[0;32m    504\u001b[0m \u001b[38;5;124;03m\"\"\"\u001b[39;00m\n\u001b[0;32m    505\u001b[0m \u001b[38;5;124;03mFinds an element by xpath.\u001b[39;00m\n\u001b[0;32m    506\u001b[0m \n\u001b[1;32m   (...)\u001b[0m\n\u001b[0;32m    519\u001b[0m \u001b[38;5;124;03m        element = driver.find_element_by_xpath('//div/td[1]')\u001b[39;00m\n\u001b[0;32m    520\u001b[0m \u001b[38;5;124;03m\"\"\"\u001b[39;00m\n\u001b[0;32m    521\u001b[0m warnings\u001b[38;5;241m.\u001b[39mwarn(\n\u001b[0;32m    522\u001b[0m     \u001b[38;5;124m\"\u001b[39m\u001b[38;5;124mfind_element_by_xpath is deprecated. Please use find_element(by=By.XPATH, value=xpath) instead\u001b[39m\u001b[38;5;124m\"\u001b[39m,\n\u001b[0;32m    523\u001b[0m     \u001b[38;5;167;01mDeprecationWarning\u001b[39;00m,\n\u001b[0;32m    524\u001b[0m     stacklevel\u001b[38;5;241m=\u001b[39m\u001b[38;5;241m2\u001b[39m,\n\u001b[0;32m    525\u001b[0m )\n\u001b[1;32m--> 526\u001b[0m \u001b[38;5;28;01mreturn\u001b[39;00m \u001b[38;5;28;43mself\u001b[39;49m\u001b[38;5;241;43m.\u001b[39;49m\u001b[43mfind_element\u001b[49m\u001b[43m(\u001b[49m\u001b[43mby\u001b[49m\u001b[38;5;241;43m=\u001b[39;49m\u001b[43mBy\u001b[49m\u001b[38;5;241;43m.\u001b[39;49m\u001b[43mXPATH\u001b[49m\u001b[43m,\u001b[49m\u001b[43m \u001b[49m\u001b[43mvalue\u001b[49m\u001b[38;5;241;43m=\u001b[39;49m\u001b[43mxpath\u001b[49m\u001b[43m)\u001b[49m\n",
      "File \u001b[1;32m~\\anaconda3\\envs\\harsh\\lib\\site-packages\\selenium\\webdriver\\remote\\webdriver.py:1251\u001b[0m, in \u001b[0;36mWebDriver.find_element\u001b[1;34m(self, by, value)\u001b[0m\n\u001b[0;32m   1248\u001b[0m     by \u001b[38;5;241m=\u001b[39m By\u001b[38;5;241m.\u001b[39mCSS_SELECTOR\n\u001b[0;32m   1249\u001b[0m     value \u001b[38;5;241m=\u001b[39m \u001b[38;5;124m'\u001b[39m\u001b[38;5;124m[name=\u001b[39m\u001b[38;5;124m\"\u001b[39m\u001b[38;5;132;01m%s\u001b[39;00m\u001b[38;5;124m\"\u001b[39m\u001b[38;5;124m]\u001b[39m\u001b[38;5;124m'\u001b[39m \u001b[38;5;241m%\u001b[39m value\n\u001b[1;32m-> 1251\u001b[0m \u001b[38;5;28;01mreturn\u001b[39;00m \u001b[38;5;28;43mself\u001b[39;49m\u001b[38;5;241;43m.\u001b[39;49m\u001b[43mexecute\u001b[49m\u001b[43m(\u001b[49m\u001b[43mCommand\u001b[49m\u001b[38;5;241;43m.\u001b[39;49m\u001b[43mFIND_ELEMENT\u001b[49m\u001b[43m,\u001b[49m\u001b[43m \u001b[49m\u001b[43m{\u001b[49m\n\u001b[0;32m   1252\u001b[0m \u001b[43m    \u001b[49m\u001b[38;5;124;43m'\u001b[39;49m\u001b[38;5;124;43musing\u001b[39;49m\u001b[38;5;124;43m'\u001b[39;49m\u001b[43m:\u001b[49m\u001b[43m \u001b[49m\u001b[43mby\u001b[49m\u001b[43m,\u001b[49m\n\u001b[0;32m   1253\u001b[0m \u001b[43m    \u001b[49m\u001b[38;5;124;43m'\u001b[39;49m\u001b[38;5;124;43mvalue\u001b[39;49m\u001b[38;5;124;43m'\u001b[39;49m\u001b[43m:\u001b[49m\u001b[43m \u001b[49m\u001b[43mvalue\u001b[49m\u001b[43m}\u001b[49m\u001b[43m)\u001b[49m[\u001b[38;5;124m'\u001b[39m\u001b[38;5;124mvalue\u001b[39m\u001b[38;5;124m'\u001b[39m]\n",
      "File \u001b[1;32m~\\anaconda3\\envs\\harsh\\lib\\site-packages\\selenium\\webdriver\\remote\\webdriver.py:430\u001b[0m, in \u001b[0;36mWebDriver.execute\u001b[1;34m(self, driver_command, params)\u001b[0m\n\u001b[0;32m    428\u001b[0m response \u001b[38;5;241m=\u001b[39m \u001b[38;5;28mself\u001b[39m\u001b[38;5;241m.\u001b[39mcommand_executor\u001b[38;5;241m.\u001b[39mexecute(driver_command, params)\n\u001b[0;32m    429\u001b[0m \u001b[38;5;28;01mif\u001b[39;00m response:\n\u001b[1;32m--> 430\u001b[0m     \u001b[38;5;28;43mself\u001b[39;49m\u001b[38;5;241;43m.\u001b[39;49m\u001b[43merror_handler\u001b[49m\u001b[38;5;241;43m.\u001b[39;49m\u001b[43mcheck_response\u001b[49m\u001b[43m(\u001b[49m\u001b[43mresponse\u001b[49m\u001b[43m)\u001b[49m\n\u001b[0;32m    431\u001b[0m     response[\u001b[38;5;124m'\u001b[39m\u001b[38;5;124mvalue\u001b[39m\u001b[38;5;124m'\u001b[39m] \u001b[38;5;241m=\u001b[39m \u001b[38;5;28mself\u001b[39m\u001b[38;5;241m.\u001b[39m_unwrap_value(\n\u001b[0;32m    432\u001b[0m         response\u001b[38;5;241m.\u001b[39mget(\u001b[38;5;124m'\u001b[39m\u001b[38;5;124mvalue\u001b[39m\u001b[38;5;124m'\u001b[39m, \u001b[38;5;28;01mNone\u001b[39;00m))\n\u001b[0;32m    433\u001b[0m     \u001b[38;5;28;01mreturn\u001b[39;00m response\n",
      "File \u001b[1;32m~\\anaconda3\\envs\\harsh\\lib\\site-packages\\selenium\\webdriver\\remote\\errorhandler.py:247\u001b[0m, in \u001b[0;36mErrorHandler.check_response\u001b[1;34m(self, response)\u001b[0m\n\u001b[0;32m    245\u001b[0m         alert_text \u001b[38;5;241m=\u001b[39m value[\u001b[38;5;124m'\u001b[39m\u001b[38;5;124malert\u001b[39m\u001b[38;5;124m'\u001b[39m]\u001b[38;5;241m.\u001b[39mget(\u001b[38;5;124m'\u001b[39m\u001b[38;5;124mtext\u001b[39m\u001b[38;5;124m'\u001b[39m)\n\u001b[0;32m    246\u001b[0m     \u001b[38;5;28;01mraise\u001b[39;00m exception_class(message, screen, stacktrace, alert_text)  \u001b[38;5;66;03m# type: ignore[call-arg]  # mypy is not smart enough here\u001b[39;00m\n\u001b[1;32m--> 247\u001b[0m \u001b[38;5;28;01mraise\u001b[39;00m exception_class(message, screen, stacktrace)\n",
      "\u001b[1;31mNoSuchElementException\u001b[0m: Message: no such element: Unable to locate element: {\"method\":\"xpath\",\"selector\":\"//*[@id]/div/div/div/div[2]/div/div/div[1]/div/div[3]/div/div/div/div/div[2]/div/article/div/div[2]/div/div/div[2]/section[1]/span[4]/div/div/button/div/svg/path\"}\n  (Session info: chrome=106.0.5249.91)\nStacktrace:\nBacktrace:\n\tOrdinal0 [0x01031ED3+2236115]\n\tOrdinal0 [0x00FC92F1+1807089]\n\tOrdinal0 [0x00ED66FD+812797]\n\tOrdinal0 [0x00F055DF+1005023]\n\tOrdinal0 [0x00F057CB+1005515]\n\tOrdinal0 [0x00F37632+1209906]\n\tOrdinal0 [0x00F21AD4+1120980]\n\tOrdinal0 [0x00F359E2+1202658]\n\tOrdinal0 [0x00F218A6+1120422]\n\tOrdinal0 [0x00EFA73D+960317]\n\tOrdinal0 [0x00EFB71F+964383]\n\tGetHandleVerifier [0x012DE7E2+2743074]\n\tGetHandleVerifier [0x012D08D4+2685972]\n\tGetHandleVerifier [0x010C2BAA+532202]\n\tGetHandleVerifier [0x010C1990+527568]\n\tOrdinal0 [0x00FD080C+1837068]\n\tOrdinal0 [0x00FD4CD8+1854680]\n\tOrdinal0 [0x00FD4DC5+1854917]\n\tOrdinal0 [0x00FDED64+1895780]\n\tBaseThreadInitThunk [0x75FB6739+25]\n\tRtlGetFullPathName_UEx [0x771C8FD2+1218]\n\tRtlGetFullPathName_UEx [0x771C8F9D+1165]\n"
     ]
    }
   ],
   "source": [
    "driver.find_element_by_xpath('//*[@id]/div/div/div/div[2]/div/div/div[1]/div/div[3]/div/div/div/div/div[2]/div/article/div/div[2]/div/div/div[2]/section[1]/span[4]/div/div/button/div/svg/path')"
   ]
  },
  {
   "cell_type": "code",
   "execution_count": 8,
   "id": "ff79fa91",
   "metadata": {},
   "outputs": [],
   "source": [
    "driver.find_element_by_css_selector('svg[aria-label=\"Remove\"]').click()"
   ]
  },
  {
   "cell_type": "code",
   "execution_count": 4,
   "id": "f5f63315",
   "metadata": {},
   "outputs": [
    {
     "name": "stdout",
     "output_type": "stream",
     "text": [
      "Processing Channel: 1 / 1\n",
      "\n"
     ]
    },
    {
     "name": "stderr",
     "output_type": "stream",
     "text": [
      "[WDM] - ====== WebDriver manager ======\n",
      "[WDM] - Current google-chrome version is 105.0.5195\n",
      "[WDM] - Get LATEST chromedriver version for 105.0.5195 google-chrome\n",
      "[WDM] - Driver [C:\\Users\\aparg\\.wdm\\drivers\\chromedriver\\win32\\105.0.5195.52\\chromedriver.exe] found in cache\n"
     ]
    },
    {
     "name": "stdout",
     "output_type": "stream",
     "text": [
      "\tTotal Chats: 10\n",
      "\tSelected Chats: 10\n",
      "['✨ 𝒟𝒾𝓎𝒶 ✨', 'Here’s my detailsContact number: 8384034120Email : diya9976@gmail.com']\n",
      "['Shivali Oswal🐅', 'We’ll reach out at an opportune time Shivali']\n",
      "list index out of range\n",
      "['Vaishali', '8130904445']\n",
      "list index out of range\n",
      "list index out of range\n",
      "list index out of range\n",
      "['Shruti Chugh Malik', 'Okay ji']\n",
      "list index out of range\n",
      "['Aditi', 'Alright']\n",
      "Empty DataFrame\n",
      "Columns: [User, Last Message, Login Username]\n",
      "Index: []\n",
      "****************************************************************************************************\n"
     ]
    },
    {
     "ename": "ValueError",
     "evalue": "Must pass 2-d input. shape=(1, 0, 3)",
     "output_type": "error",
     "traceback": [
      "\u001b[1;31m---------------------------------------------------------------------------\u001b[0m",
      "\u001b[1;31mValueError\u001b[0m                                Traceback (most recent call last)",
      "Input \u001b[1;32mIn [4]\u001b[0m, in \u001b[0;36m<cell line: 44>\u001b[1;34m()\u001b[0m\n\u001b[0;32m     40\u001b[0m         \u001b[38;5;28mprint\u001b[39m(e)\n\u001b[0;32m     41\u001b[0m         \u001b[38;5;28;01mcontinue\u001b[39;00m  \n\u001b[1;32m---> 44\u001b[0m df4 \u001b[38;5;241m=\u001b[39m \u001b[43mpd\u001b[49m\u001b[38;5;241;43m.\u001b[39;49m\u001b[43mDataFrame\u001b[49m\u001b[43m(\u001b[49m\u001b[43mdf3\u001b[49m\u001b[43m)\u001b[49m\n\u001b[0;32m     45\u001b[0m \u001b[38;5;28mprint\u001b[39m(df4\u001b[38;5;241m.\u001b[39mhead())\n\u001b[0;32m     47\u001b[0m df4\u001b[38;5;241m.\u001b[39mto_csv(\u001b[38;5;124m'\u001b[39m\u001b[38;5;124mtest_output_csv_files/Msg_output.csv\u001b[39m\u001b[38;5;124m'\u001b[39m,index\u001b[38;5;241m=\u001b[39m\u001b[38;5;28;01mFalse\u001b[39;00m)\n",
      "File \u001b[1;32m~\\anaconda3\\envs\\harsh\\lib\\site-packages\\pandas\\core\\frame.py:737\u001b[0m, in \u001b[0;36mDataFrame.__init__\u001b[1;34m(self, data, index, columns, dtype, copy)\u001b[0m\n\u001b[0;32m    729\u001b[0m         mgr \u001b[38;5;241m=\u001b[39m arrays_to_mgr(\n\u001b[0;32m    730\u001b[0m             arrays,\n\u001b[0;32m    731\u001b[0m             columns,\n\u001b[1;32m   (...)\u001b[0m\n\u001b[0;32m    734\u001b[0m             typ\u001b[38;5;241m=\u001b[39mmanager,\n\u001b[0;32m    735\u001b[0m         )\n\u001b[0;32m    736\u001b[0m     \u001b[38;5;28;01melse\u001b[39;00m:\n\u001b[1;32m--> 737\u001b[0m         mgr \u001b[38;5;241m=\u001b[39m \u001b[43mndarray_to_mgr\u001b[49m\u001b[43m(\u001b[49m\n\u001b[0;32m    738\u001b[0m \u001b[43m            \u001b[49m\u001b[43mdata\u001b[49m\u001b[43m,\u001b[49m\n\u001b[0;32m    739\u001b[0m \u001b[43m            \u001b[49m\u001b[43mindex\u001b[49m\u001b[43m,\u001b[49m\n\u001b[0;32m    740\u001b[0m \u001b[43m            \u001b[49m\u001b[43mcolumns\u001b[49m\u001b[43m,\u001b[49m\n\u001b[0;32m    741\u001b[0m \u001b[43m            \u001b[49m\u001b[43mdtype\u001b[49m\u001b[38;5;241;43m=\u001b[39;49m\u001b[43mdtype\u001b[49m\u001b[43m,\u001b[49m\n\u001b[0;32m    742\u001b[0m \u001b[43m            \u001b[49m\u001b[43mcopy\u001b[49m\u001b[38;5;241;43m=\u001b[39;49m\u001b[43mcopy\u001b[49m\u001b[43m,\u001b[49m\n\u001b[0;32m    743\u001b[0m \u001b[43m            \u001b[49m\u001b[43mtyp\u001b[49m\u001b[38;5;241;43m=\u001b[39;49m\u001b[43mmanager\u001b[49m\u001b[43m,\u001b[49m\n\u001b[0;32m    744\u001b[0m \u001b[43m        \u001b[49m\u001b[43m)\u001b[49m\n\u001b[0;32m    745\u001b[0m \u001b[38;5;28;01melse\u001b[39;00m:\n\u001b[0;32m    746\u001b[0m     mgr \u001b[38;5;241m=\u001b[39m dict_to_mgr(\n\u001b[0;32m    747\u001b[0m         {},\n\u001b[0;32m    748\u001b[0m         index,\n\u001b[1;32m   (...)\u001b[0m\n\u001b[0;32m    751\u001b[0m         typ\u001b[38;5;241m=\u001b[39mmanager,\n\u001b[0;32m    752\u001b[0m     )\n",
      "File \u001b[1;32m~\\anaconda3\\envs\\harsh\\lib\\site-packages\\pandas\\core\\internals\\construction.py:331\u001b[0m, in \u001b[0;36mndarray_to_mgr\u001b[1;34m(values, index, columns, dtype, copy, typ)\u001b[0m\n\u001b[0;32m    326\u001b[0m         values \u001b[38;5;241m=\u001b[39m values\u001b[38;5;241m.\u001b[39mreshape(\u001b[38;5;241m-\u001b[39m\u001b[38;5;241m1\u001b[39m, \u001b[38;5;241m1\u001b[39m)\n\u001b[0;32m    328\u001b[0m \u001b[38;5;28;01melse\u001b[39;00m:\n\u001b[0;32m    329\u001b[0m     \u001b[38;5;66;03m# by definition an array here\u001b[39;00m\n\u001b[0;32m    330\u001b[0m     \u001b[38;5;66;03m# the dtypes will be coerced to a single dtype\u001b[39;00m\n\u001b[1;32m--> 331\u001b[0m     values \u001b[38;5;241m=\u001b[39m \u001b[43m_prep_ndarray\u001b[49m\u001b[43m(\u001b[49m\u001b[43mvalues\u001b[49m\u001b[43m,\u001b[49m\u001b[43m \u001b[49m\u001b[43mcopy\u001b[49m\u001b[38;5;241;43m=\u001b[39;49m\u001b[43mcopy_on_sanitize\u001b[49m\u001b[43m)\u001b[49m\n\u001b[0;32m    333\u001b[0m \u001b[38;5;28;01mif\u001b[39;00m dtype \u001b[38;5;129;01mis\u001b[39;00m \u001b[38;5;129;01mnot\u001b[39;00m \u001b[38;5;28;01mNone\u001b[39;00m \u001b[38;5;129;01mand\u001b[39;00m \u001b[38;5;129;01mnot\u001b[39;00m is_dtype_equal(values\u001b[38;5;241m.\u001b[39mdtype, dtype):\n\u001b[0;32m    334\u001b[0m     shape \u001b[38;5;241m=\u001b[39m values\u001b[38;5;241m.\u001b[39mshape\n",
      "File \u001b[1;32m~\\anaconda3\\envs\\harsh\\lib\\site-packages\\pandas\\core\\internals\\construction.py:591\u001b[0m, in \u001b[0;36m_prep_ndarray\u001b[1;34m(values, copy)\u001b[0m\n\u001b[0;32m    589\u001b[0m     values \u001b[38;5;241m=\u001b[39m values\u001b[38;5;241m.\u001b[39mreshape((values\u001b[38;5;241m.\u001b[39mshape[\u001b[38;5;241m0\u001b[39m], \u001b[38;5;241m1\u001b[39m))\n\u001b[0;32m    590\u001b[0m \u001b[38;5;28;01melif\u001b[39;00m values\u001b[38;5;241m.\u001b[39mndim \u001b[38;5;241m!=\u001b[39m \u001b[38;5;241m2\u001b[39m:\n\u001b[1;32m--> 591\u001b[0m     \u001b[38;5;28;01mraise\u001b[39;00m \u001b[38;5;167;01mValueError\u001b[39;00m(\u001b[38;5;124mf\u001b[39m\u001b[38;5;124m\"\u001b[39m\u001b[38;5;124mMust pass 2-d input. shape=\u001b[39m\u001b[38;5;132;01m{\u001b[39;00mvalues\u001b[38;5;241m.\u001b[39mshape\u001b[38;5;132;01m}\u001b[39;00m\u001b[38;5;124m\"\u001b[39m)\n\u001b[0;32m    593\u001b[0m \u001b[38;5;28;01mreturn\u001b[39;00m values\n",
      "\u001b[1;31mValueError\u001b[0m: Must pass 2-d input. shape=(1, 0, 3)"
     ]
    }
   ],
   "source": [
    "df3 = []\n",
    "\n",
    "for i in range(len(credentials)):\n",
    "    print('Processing Channel:', i+1, '/', len(credentials))\n",
    "\n",
    "    try:\n",
    "        # open browser\n",
    "        driver = open_driver()\n",
    "\n",
    "        # get instagram login credentials\n",
    "        username = credentials.iloc[i,0]\n",
    "        password = credentials.iloc[i,1]\n",
    "\n",
    "        # login\n",
    "        driver = login(driver, username, password)\n",
    "\n",
    "        # open inbox\n",
    "        driver.get('https://www.instagram.com/direct/inbox/')\n",
    "        random_time_delay()\n",
    "\n",
    "        # Infinite scrolling\n",
    "\n",
    "        # Get seen chats only\n",
    "        chats = filter_chats(driver)\n",
    "\n",
    "        # Get last message in the seen chats\n",
    "        df = get_last_msg(driver, chats, 10)\n",
    "        df['Login Username'] = username\n",
    "        print(df.head(5).to_string())\n",
    "\n",
    "        df3.append(df)\n",
    "\n",
    "        # close browsers\n",
    "        driver.quit()\n",
    "        random_time_delay()\n",
    "\n",
    "        print('*'*100)\n",
    "\n",
    "    except Exception as e:\n",
    "        print(e)\n",
    "        continue  \n",
    "\n",
    "\n",
    "df4 = pd.DataFrame(df3)\n",
    "print(df4.head())\n",
    "\n",
    "df4.to_csv('test_output_csv_files/Msg_output.csv',index=False)"
   ]
  },
  {
   "cell_type": "code",
   "execution_count": 6,
   "id": "d8eefeb5",
   "metadata": {},
   "outputs": [
    {
     "data": {
      "text/plain": [
       "[Empty DataFrame\n",
       " Columns: [User, Last Message, Login Username]\n",
       " Index: []]"
      ]
     },
     "execution_count": 6,
     "metadata": {},
     "output_type": "execute_result"
    }
   ],
   "source": [
    "df3"
   ]
  },
  {
   "cell_type": "code",
   "execution_count": 2,
   "id": "922ac608",
   "metadata": {},
   "outputs": [],
   "source": [
    "import pandas as pd"
   ]
  },
  {
   "cell_type": "code",
   "execution_count": 8,
   "id": "4fc3056b",
   "metadata": {},
   "outputs": [],
   "source": [
    "df = [['✨ 𝒟𝒾𝓎𝒶 ✨', 'Here’s my detailsContact number: 8384034120Email : diya9976@gmail.com'],\n",
    "['Shivali Oswal🐅', 'We’ll reach out at an opportune time Shivali']]"
   ]
  },
  {
   "cell_type": "code",
   "execution_count": 9,
   "id": "36ef0c0a",
   "metadata": {},
   "outputs": [],
   "source": [
    "df=pd.DataFrame(df,columns = ['User','Last Message'])"
   ]
  },
  {
   "cell_type": "code",
   "execution_count": 10,
   "id": "8d4e5424",
   "metadata": {},
   "outputs": [
    {
     "data": {
      "text/html": [
       "<div>\n",
       "<style scoped>\n",
       "    .dataframe tbody tr th:only-of-type {\n",
       "        vertical-align: middle;\n",
       "    }\n",
       "\n",
       "    .dataframe tbody tr th {\n",
       "        vertical-align: top;\n",
       "    }\n",
       "\n",
       "    .dataframe thead th {\n",
       "        text-align: right;\n",
       "    }\n",
       "</style>\n",
       "<table border=\"1\" class=\"dataframe\">\n",
       "  <thead>\n",
       "    <tr style=\"text-align: right;\">\n",
       "      <th></th>\n",
       "      <th>User</th>\n",
       "      <th>Last Message</th>\n",
       "    </tr>\n",
       "  </thead>\n",
       "  <tbody>\n",
       "    <tr>\n",
       "      <th>0</th>\n",
       "      <td>✨ 𝒟𝒾𝓎𝒶 ✨</td>\n",
       "      <td>Here’s my detailsContact number: 8384034120Ema...</td>\n",
       "    </tr>\n",
       "    <tr>\n",
       "      <th>1</th>\n",
       "      <td>Shivali Oswal🐅</td>\n",
       "      <td>We’ll reach out at an opportune time Shivali</td>\n",
       "    </tr>\n",
       "  </tbody>\n",
       "</table>\n",
       "</div>"
      ],
      "text/plain": [
       "             User                                       Last Message\n",
       "0        ✨ 𝒟𝒾𝓎𝒶 ✨  Here’s my detailsContact number: 8384034120Ema...\n",
       "1  Shivali Oswal🐅       We’ll reach out at an opportune time Shivali"
      ]
     },
     "execution_count": 10,
     "metadata": {},
     "output_type": "execute_result"
    }
   ],
   "source": [
    "df"
   ]
  },
  {
   "cell_type": "code",
   "execution_count": 11,
   "id": "a5a3e766",
   "metadata": {},
   "outputs": [],
   "source": [
    "df2 = df.copy()"
   ]
  },
  {
   "cell_type": "code",
   "execution_count": 12,
   "id": "63b301dc",
   "metadata": {},
   "outputs": [
    {
     "data": {
      "text/html": [
       "<div>\n",
       "<style scoped>\n",
       "    .dataframe tbody tr th:only-of-type {\n",
       "        vertical-align: middle;\n",
       "    }\n",
       "\n",
       "    .dataframe tbody tr th {\n",
       "        vertical-align: top;\n",
       "    }\n",
       "\n",
       "    .dataframe thead th {\n",
       "        text-align: right;\n",
       "    }\n",
       "</style>\n",
       "<table border=\"1\" class=\"dataframe\">\n",
       "  <thead>\n",
       "    <tr style=\"text-align: right;\">\n",
       "      <th></th>\n",
       "      <th>User</th>\n",
       "      <th>Last Message</th>\n",
       "    </tr>\n",
       "  </thead>\n",
       "  <tbody>\n",
       "    <tr>\n",
       "      <th>0</th>\n",
       "      <td>✨ 𝒟𝒾𝓎𝒶 ✨</td>\n",
       "      <td>Here’s my detailsContact number: 8384034120Ema...</td>\n",
       "    </tr>\n",
       "    <tr>\n",
       "      <th>1</th>\n",
       "      <td>Shivali Oswal🐅</td>\n",
       "      <td>We’ll reach out at an opportune time Shivali</td>\n",
       "    </tr>\n",
       "  </tbody>\n",
       "</table>\n",
       "</div>"
      ],
      "text/plain": [
       "             User                                       Last Message\n",
       "0        ✨ 𝒟𝒾𝓎𝒶 ✨  Here’s my detailsContact number: 8384034120Ema...\n",
       "1  Shivali Oswal🐅       We’ll reach out at an opportune time Shivali"
      ]
     },
     "execution_count": 12,
     "metadata": {},
     "output_type": "execute_result"
    }
   ],
   "source": [
    "df2"
   ]
  },
  {
   "cell_type": "code",
   "execution_count": 13,
   "id": "fb764f04",
   "metadata": {},
   "outputs": [],
   "source": [
    "df3 = []"
   ]
  },
  {
   "cell_type": "code",
   "execution_count": 15,
   "id": "497bc0c7",
   "metadata": {},
   "outputs": [],
   "source": [
    "df3.append(df2)"
   ]
  },
  {
   "cell_type": "code",
   "execution_count": 16,
   "id": "23fc6b25",
   "metadata": {},
   "outputs": [
    {
     "data": {
      "text/plain": [
       "[             User                                       Last Message\n",
       " 0        ✨ 𝒟𝒾𝓎𝒶 ✨  Here’s my detailsContact number: 8384034120Ema...\n",
       " 1  Shivali Oswal🐅       We’ll reach out at an opportune time Shivali,\n",
       "              User                                       Last Message\n",
       " 0        ✨ 𝒟𝒾𝓎𝒶 ✨  Here’s my detailsContact number: 8384034120Ema...\n",
       " 1  Shivali Oswal🐅       We’ll reach out at an opportune time Shivali]"
      ]
     },
     "execution_count": 16,
     "metadata": {},
     "output_type": "execute_result"
    }
   ],
   "source": [
    "df3"
   ]
  },
  {
   "cell_type": "code",
   "execution_count": 17,
   "id": "7530b145",
   "metadata": {},
   "outputs": [
    {
     "ename": "ValueError",
     "evalue": "Must pass 2-d input. shape=(2, 2, 2)",
     "output_type": "error",
     "traceback": [
      "\u001b[1;31m---------------------------------------------------------------------------\u001b[0m",
      "\u001b[1;31mValueError\u001b[0m                                Traceback (most recent call last)",
      "\u001b[1;32m<ipython-input-17-ca6927bc2b5c>\u001b[0m in \u001b[0;36m<module>\u001b[1;34m\u001b[0m\n\u001b[1;32m----> 1\u001b[1;33m \u001b[0mpd\u001b[0m\u001b[1;33m.\u001b[0m\u001b[0mDataFrame\u001b[0m\u001b[1;33m(\u001b[0m\u001b[0mdf3\u001b[0m\u001b[1;33m)\u001b[0m\u001b[1;33m\u001b[0m\u001b[1;33m\u001b[0m\u001b[0m\n\u001b[0m",
      "\u001b[1;32m~\\anaconda3\\lib\\site-packages\\pandas\\core\\frame.py\u001b[0m in \u001b[0;36m__init__\u001b[1;34m(self, data, index, columns, dtype, copy)\u001b[0m\n\u001b[0;32m    582\u001b[0m                     \u001b[0mmgr\u001b[0m \u001b[1;33m=\u001b[0m \u001b[0marrays_to_mgr\u001b[0m\u001b[1;33m(\u001b[0m\u001b[0marrays\u001b[0m\u001b[1;33m,\u001b[0m \u001b[0mcolumns\u001b[0m\u001b[1;33m,\u001b[0m \u001b[0mindex\u001b[0m\u001b[1;33m,\u001b[0m \u001b[0mcolumns\u001b[0m\u001b[1;33m,\u001b[0m \u001b[0mdtype\u001b[0m\u001b[1;33m=\u001b[0m\u001b[0mdtype\u001b[0m\u001b[1;33m)\u001b[0m\u001b[1;33m\u001b[0m\u001b[1;33m\u001b[0m\u001b[0m\n\u001b[0;32m    583\u001b[0m                 \u001b[1;32melse\u001b[0m\u001b[1;33m:\u001b[0m\u001b[1;33m\u001b[0m\u001b[1;33m\u001b[0m\u001b[0m\n\u001b[1;32m--> 584\u001b[1;33m                     \u001b[0mmgr\u001b[0m \u001b[1;33m=\u001b[0m \u001b[0minit_ndarray\u001b[0m\u001b[1;33m(\u001b[0m\u001b[0mdata\u001b[0m\u001b[1;33m,\u001b[0m \u001b[0mindex\u001b[0m\u001b[1;33m,\u001b[0m \u001b[0mcolumns\u001b[0m\u001b[1;33m,\u001b[0m \u001b[0mdtype\u001b[0m\u001b[1;33m=\u001b[0m\u001b[0mdtype\u001b[0m\u001b[1;33m,\u001b[0m \u001b[0mcopy\u001b[0m\u001b[1;33m=\u001b[0m\u001b[0mcopy\u001b[0m\u001b[1;33m)\u001b[0m\u001b[1;33m\u001b[0m\u001b[1;33m\u001b[0m\u001b[0m\n\u001b[0m\u001b[0;32m    585\u001b[0m             \u001b[1;32melse\u001b[0m\u001b[1;33m:\u001b[0m\u001b[1;33m\u001b[0m\u001b[1;33m\u001b[0m\u001b[0m\n\u001b[0;32m    586\u001b[0m                 \u001b[0mmgr\u001b[0m \u001b[1;33m=\u001b[0m \u001b[0minit_dict\u001b[0m\u001b[1;33m(\u001b[0m\u001b[1;33m{\u001b[0m\u001b[1;33m}\u001b[0m\u001b[1;33m,\u001b[0m \u001b[0mindex\u001b[0m\u001b[1;33m,\u001b[0m \u001b[0mcolumns\u001b[0m\u001b[1;33m,\u001b[0m \u001b[0mdtype\u001b[0m\u001b[1;33m=\u001b[0m\u001b[0mdtype\u001b[0m\u001b[1;33m)\u001b[0m\u001b[1;33m\u001b[0m\u001b[1;33m\u001b[0m\u001b[0m\n",
      "\u001b[1;32m~\\anaconda3\\lib\\site-packages\\pandas\\core\\internals\\construction.py\u001b[0m in \u001b[0;36minit_ndarray\u001b[1;34m(values, index, columns, dtype, copy)\u001b[0m\n\u001b[0;32m    190\u001b[0m     \u001b[1;31m# by definition an array here\u001b[0m\u001b[1;33m\u001b[0m\u001b[1;33m\u001b[0m\u001b[1;33m\u001b[0m\u001b[0m\n\u001b[0;32m    191\u001b[0m     \u001b[1;31m# the dtypes will be coerced to a single dtype\u001b[0m\u001b[1;33m\u001b[0m\u001b[1;33m\u001b[0m\u001b[1;33m\u001b[0m\u001b[0m\n\u001b[1;32m--> 192\u001b[1;33m     \u001b[0mvalues\u001b[0m \u001b[1;33m=\u001b[0m \u001b[0m_prep_ndarray\u001b[0m\u001b[1;33m(\u001b[0m\u001b[0mvalues\u001b[0m\u001b[1;33m,\u001b[0m \u001b[0mcopy\u001b[0m\u001b[1;33m=\u001b[0m\u001b[0mcopy\u001b[0m\u001b[1;33m)\u001b[0m\u001b[1;33m\u001b[0m\u001b[1;33m\u001b[0m\u001b[0m\n\u001b[0m\u001b[0;32m    193\u001b[0m \u001b[1;33m\u001b[0m\u001b[0m\n\u001b[0;32m    194\u001b[0m     \u001b[1;32mif\u001b[0m \u001b[0mdtype\u001b[0m \u001b[1;32mis\u001b[0m \u001b[1;32mnot\u001b[0m \u001b[1;32mNone\u001b[0m \u001b[1;32mand\u001b[0m \u001b[1;32mnot\u001b[0m \u001b[0mis_dtype_equal\u001b[0m\u001b[1;33m(\u001b[0m\u001b[0mvalues\u001b[0m\u001b[1;33m.\u001b[0m\u001b[0mdtype\u001b[0m\u001b[1;33m,\u001b[0m \u001b[0mdtype\u001b[0m\u001b[1;33m)\u001b[0m\u001b[1;33m:\u001b[0m\u001b[1;33m\u001b[0m\u001b[1;33m\u001b[0m\u001b[0m\n",
      "\u001b[1;32m~\\anaconda3\\lib\\site-packages\\pandas\\core\\internals\\construction.py\u001b[0m in \u001b[0;36m_prep_ndarray\u001b[1;34m(values, copy)\u001b[0m\n\u001b[0;32m    326\u001b[0m         \u001b[0mvalues\u001b[0m \u001b[1;33m=\u001b[0m \u001b[0mvalues\u001b[0m\u001b[1;33m.\u001b[0m\u001b[0mreshape\u001b[0m\u001b[1;33m(\u001b[0m\u001b[1;33m(\u001b[0m\u001b[0mvalues\u001b[0m\u001b[1;33m.\u001b[0m\u001b[0mshape\u001b[0m\u001b[1;33m[\u001b[0m\u001b[1;36m0\u001b[0m\u001b[1;33m]\u001b[0m\u001b[1;33m,\u001b[0m \u001b[1;36m1\u001b[0m\u001b[1;33m)\u001b[0m\u001b[1;33m)\u001b[0m\u001b[1;33m\u001b[0m\u001b[1;33m\u001b[0m\u001b[0m\n\u001b[0;32m    327\u001b[0m     \u001b[1;32melif\u001b[0m \u001b[0mvalues\u001b[0m\u001b[1;33m.\u001b[0m\u001b[0mndim\u001b[0m \u001b[1;33m!=\u001b[0m \u001b[1;36m2\u001b[0m\u001b[1;33m:\u001b[0m\u001b[1;33m\u001b[0m\u001b[1;33m\u001b[0m\u001b[0m\n\u001b[1;32m--> 328\u001b[1;33m         \u001b[1;32mraise\u001b[0m \u001b[0mValueError\u001b[0m\u001b[1;33m(\u001b[0m\u001b[1;34mf\"Must pass 2-d input. shape={values.shape}\"\u001b[0m\u001b[1;33m)\u001b[0m\u001b[1;33m\u001b[0m\u001b[1;33m\u001b[0m\u001b[0m\n\u001b[0m\u001b[0;32m    329\u001b[0m \u001b[1;33m\u001b[0m\u001b[0m\n\u001b[0;32m    330\u001b[0m     \u001b[1;32mreturn\u001b[0m \u001b[0mvalues\u001b[0m\u001b[1;33m\u001b[0m\u001b[1;33m\u001b[0m\u001b[0m\n",
      "\u001b[1;31mValueError\u001b[0m: Must pass 2-d input. shape=(2, 2, 2)"
     ]
    }
   ],
   "source": [
    "pd.DataFrame(df3)"
   ]
  },
  {
   "cell_type": "code",
   "execution_count": 18,
   "id": "e344da46",
   "metadata": {},
   "outputs": [
    {
     "data": {
      "text/html": [
       "<div>\n",
       "<style scoped>\n",
       "    .dataframe tbody tr th:only-of-type {\n",
       "        vertical-align: middle;\n",
       "    }\n",
       "\n",
       "    .dataframe tbody tr th {\n",
       "        vertical-align: top;\n",
       "    }\n",
       "\n",
       "    .dataframe thead th {\n",
       "        text-align: right;\n",
       "    }\n",
       "</style>\n",
       "<table border=\"1\" class=\"dataframe\">\n",
       "  <thead>\n",
       "    <tr style=\"text-align: right;\">\n",
       "      <th></th>\n",
       "      <th>User</th>\n",
       "      <th>Last Message</th>\n",
       "    </tr>\n",
       "  </thead>\n",
       "  <tbody>\n",
       "    <tr>\n",
       "      <th>0</th>\n",
       "      <td>✨ 𝒟𝒾𝓎𝒶 ✨</td>\n",
       "      <td>Here’s my detailsContact number: 8384034120Ema...</td>\n",
       "    </tr>\n",
       "    <tr>\n",
       "      <th>1</th>\n",
       "      <td>Shivali Oswal🐅</td>\n",
       "      <td>We’ll reach out at an opportune time Shivali</td>\n",
       "    </tr>\n",
       "    <tr>\n",
       "      <th>0</th>\n",
       "      <td>✨ 𝒟𝒾𝓎𝒶 ✨</td>\n",
       "      <td>Here’s my detailsContact number: 8384034120Ema...</td>\n",
       "    </tr>\n",
       "    <tr>\n",
       "      <th>1</th>\n",
       "      <td>Shivali Oswal🐅</td>\n",
       "      <td>We’ll reach out at an opportune time Shivali</td>\n",
       "    </tr>\n",
       "  </tbody>\n",
       "</table>\n",
       "</div>"
      ],
      "text/plain": [
       "             User                                       Last Message\n",
       "0        ✨ 𝒟𝒾𝓎𝒶 ✨  Here’s my detailsContact number: 8384034120Ema...\n",
       "1  Shivali Oswal🐅       We’ll reach out at an opportune time Shivali\n",
       "0        ✨ 𝒟𝒾𝓎𝒶 ✨  Here’s my detailsContact number: 8384034120Ema...\n",
       "1  Shivali Oswal🐅       We’ll reach out at an opportune time Shivali"
      ]
     },
     "execution_count": 18,
     "metadata": {},
     "output_type": "execute_result"
    }
   ],
   "source": [
    "pd.concat(df3)"
   ]
  },
  {
   "cell_type": "code",
   "execution_count": null,
   "id": "cf39938f",
   "metadata": {},
   "outputs": [],
   "source": []
  }
 ],
 "metadata": {
  "kernelspec": {
   "display_name": "Python 3 (ipykernel)",
   "language": "python",
   "name": "python3"
  },
  "language_info": {
   "codemirror_mode": {
    "name": "ipython",
    "version": 3
   },
   "file_extension": ".py",
   "mimetype": "text/x-python",
   "name": "python",
   "nbconvert_exporter": "python",
   "pygments_lexer": "ipython3",
   "version": "3.8.0"
  }
 },
 "nbformat": 4,
 "nbformat_minor": 5
}
