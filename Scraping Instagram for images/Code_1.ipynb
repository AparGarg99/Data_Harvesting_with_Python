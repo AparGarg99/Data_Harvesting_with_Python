{
 "cells": [
  {
   "cell_type": "markdown",
   "metadata": {},
   "source": [
    "# Import Libraries"
   ]
  },
  {
   "cell_type": "code",
   "execution_count": 1,
   "metadata": {},
   "outputs": [],
   "source": [
    "from selenium import webdriver\n",
    "from bs4 import BeautifulSoup as bs\n",
    "import time\n",
    "import re\n",
    "from urllib.request import urlopen\n",
    "import json\n",
    "from pandas.io.json import json_normalize\n",
    "import pandas as pd, numpy as np\n",
    "from nltk.metrics import edit_distance\n",
    "import os\n",
    "import requests"
   ]
  },
  {
   "cell_type": "markdown",
   "metadata": {},
   "source": [
    "# Take User Input"
   ]
  },
  {
   "cell_type": "code",
   "execution_count": 2,
   "metadata": {
    "scrolled": true
   },
   "outputs": [
    {
     "name": "stdout",
     "output_type": "stream",
     "text": [
      "Enter Country: United states of america\n",
      "Enter City: harlem\n",
      "Enter Location: appolo theater\n"
     ]
    }
   ],
   "source": [
    "a=input('Enter Country: ').lower()\n",
    "a2=input('Enter City: ').lower()\n",
    "a3=input('Enter Location: ').lower()"
   ]
  },
  {
   "cell_type": "markdown",
   "metadata": {},
   "source": [
    "# Link of required Country"
   ]
  },
  {
   "cell_type": "code",
   "execution_count": 3,
   "metadata": {},
   "outputs": [],
   "source": [
    "# Get all countries on instagram\n",
    "country_names=[] # list of country names\n",
    "country_links=[] # list of country links\n",
    "browser = webdriver.Chrome(executable_path=\"C:\\\\Users\\\\Amit\\\\Desktop\\\\Internships\\\\BiosectRx\\\\Task_1\\\\chromedriver.exe\") # Open the web browser\n",
    "for i in range(1,4):\n",
    "    browser.get('https://www.instagram.com/explore/locations/?page={}'.format(i)) # open page on web browser\n",
    "    source = browser.page_source \n",
    "    soup=bs(source, 'html.parser') # parse HTML source page\n",
    "    for i in soup.find_all('a'):\n",
    "        country_names.append(i.text)\n",
    "        country_links.append(i.get('href'))"
   ]
  },
  {
   "cell_type": "code",
   "execution_count": 4,
   "metadata": {},
   "outputs": [
    {
     "data": {
      "text/plain": [
       "(287, 287)"
      ]
     },
     "execution_count": 4,
     "metadata": {},
     "output_type": "execute_result"
    }
   ],
   "source": [
    "# number of countries= 287\n",
    "len(country_names),len(country_links)"
   ]
  },
  {
   "cell_type": "code",
   "execution_count": 5,
   "metadata": {},
   "outputs": [],
   "source": [
    "# get country name closest to first user input\n",
    "# edit distance technique\n",
    "minimum=500\n",
    "index=0\n",
    "for i,j in enumerate(country_names):\n",
    "    dist=edit_distance(a,j)\n",
    "    if (dist<minimum):\n",
    "        minimum=dist\n",
    "        index=i"
   ]
  },
  {
   "cell_type": "code",
   "execution_count": 6,
   "metadata": {},
   "outputs": [
    {
     "data": {
      "text/plain": [
       "'https://www.instagram.com/explore/locations/US/united-states/'"
      ]
     },
     "execution_count": 6,
     "metadata": {},
     "output_type": "execute_result"
    }
   ],
   "source": [
    "'https://www.instagram.com'+country_links[index]"
   ]
  },
  {
   "cell_type": "markdown",
   "metadata": {},
   "source": [
    "# Link of required City"
   ]
  },
  {
   "cell_type": "code",
   "execution_count": 7,
   "metadata": {},
   "outputs": [],
   "source": [
    "# Get all cities in the country\n",
    "city_names=[] # list of city names\n",
    "city_links=[] # list of city links\n",
    "c=0\n",
    "key=True\n",
    "while(key):\n",
    "    c=c+1\n",
    "    browser.get('https://www.instagram.com'+country_links[index]+'?page={}'.format(c)) # open page on web browser\n",
    "    source = browser.page_source\n",
    "    soup=bs(source, 'html.parser') # parse HTML source page\n",
    "    for i in soup.find_all('a'):\n",
    "        if(i.text=='Go back to Instagram.'):\n",
    "            key=False\n",
    "            break\n",
    "        else:\n",
    "            city_names.append(i.text)\n",
    "            city_links.append(i.get('href'))"
   ]
  },
  {
   "cell_type": "code",
   "execution_count": 8,
   "metadata": {},
   "outputs": [
    {
     "data": {
      "text/plain": [
       "(1153, 1153)"
      ]
     },
     "execution_count": 8,
     "metadata": {},
     "output_type": "execute_result"
    }
   ],
   "source": [
    "# number of cities = <NUMBER>\n",
    "len(city_names),len(city_links)"
   ]
  },
  {
   "cell_type": "code",
   "execution_count": 9,
   "metadata": {},
   "outputs": [],
   "source": [
    "# get city name closest to second user input\n",
    "# edit distance technique\n",
    "minimum=500\n",
    "index=0\n",
    "for i,j in enumerate(city_names):\n",
    "    dist=edit_distance(a2,j)\n",
    "    if (dist<minimum):\n",
    "        minimum=dist\n",
    "        index=i"
   ]
  },
  {
   "cell_type": "code",
   "execution_count": 10,
   "metadata": {},
   "outputs": [
    {
     "data": {
      "text/plain": [
       "'https://www.instagram.com/explore/locations/c2728404/harlem-united-states/'"
      ]
     },
     "execution_count": 10,
     "metadata": {},
     "output_type": "execute_result"
    }
   ],
   "source": [
    "'https://www.instagram.com'+city_links[index]"
   ]
  },
  {
   "cell_type": "markdown",
   "metadata": {},
   "source": [
    "# Link of required Location"
   ]
  },
  {
   "cell_type": "code",
   "execution_count": 11,
   "metadata": {},
   "outputs": [],
   "source": [
    "# Get all locations in the city\n",
    "location_names=[] # list of location names\n",
    "location_links=[] # list of location links\n",
    "c=0\n",
    "key=True\n",
    "while(key):\n",
    "    c=c+1\n",
    "    browser.get('https://www.instagram.com'+city_links[index]+'?page={}'.format(c)) # open page on web browser\n",
    "    source = browser.page_source\n",
    "    soup=bs(source, 'html.parser') # parse HTML source page\n",
    "    for i in soup.find_all('a'):\n",
    "        if(i.text=='Go back to Instagram.'):\n",
    "            key=False\n",
    "            break\n",
    "        else:\n",
    "            location_names.append(i.text)\n",
    "            location_links.append(i.get('href'))"
   ]
  },
  {
   "cell_type": "code",
   "execution_count": 12,
   "metadata": {},
   "outputs": [
    {
     "data": {
      "text/plain": [
       "(1164, 1164)"
      ]
     },
     "execution_count": 12,
     "metadata": {},
     "output_type": "execute_result"
    }
   ],
   "source": [
    "# number of locations= <NUMBER>\n",
    "len(location_names),len(location_links)"
   ]
  },
  {
   "cell_type": "code",
   "execution_count": 13,
   "metadata": {},
   "outputs": [],
   "source": [
    "# get location name closest to third user input\n",
    "# edit distance technique\n",
    "minimum=500\n",
    "index=0\n",
    "for i,j in enumerate(location_names):\n",
    "    dist=edit_distance(a3,j)\n",
    "    if (dist<minimum):\n",
    "        minimum=dist\n",
    "        index=i"
   ]
  },
  {
   "cell_type": "code",
   "execution_count": 14,
   "metadata": {},
   "outputs": [
    {
     "data": {
      "text/plain": [
       "'https://www.instagram.com/explore/locations/1296762/apollo-theater/'"
      ]
     },
     "execution_count": 14,
     "metadata": {},
     "output_type": "execute_result"
    }
   ],
   "source": [
    "'https://www.instagram.com'+location_links[index]"
   ]
  },
  {
   "cell_type": "markdown",
   "metadata": {},
   "source": [
    "# Scrape and save images from Geotag"
   ]
  },
  {
   "cell_type": "code",
   "execution_count": 15,
   "metadata": {},
   "outputs": [],
   "source": [
    "browser.get('https://www.instagram.com'+location_links[index]) # open page on web browser\n",
    "browser.maximize_window() # maximize browser window\n",
    "browser.execute_script(\"window.scrollBy(0,document.body.scrollHeight)\") # infinite scrolling\n",
    "source = browser.page_source\n",
    "soup=bs(source, 'html.parser') # parse HTML source page"
   ]
  },
  {
   "cell_type": "code",
   "execution_count": 16,
   "metadata": {},
   "outputs": [],
   "source": [
    "# create a directory\n",
    "os.mkdir(location_names[index])\n",
    "# save all images in the directory\n",
    "count=0\n",
    "for i in soup.find_all('img'):\n",
    "    if('https://instagram.' in i['src']):\n",
    "        count=count+1\n",
    "        img_data = requests.get(i['src']).content\n",
    "        path=location_names[index]+'/'+str(count)+'.jpg'\n",
    "        with open(path, 'wb') as handler:\n",
    "            handler.write(img_data)"
   ]
  }
 ],
 "metadata": {
  "kernelspec": {
   "display_name": "Python 3",
   "language": "python",
   "name": "python3"
  },
  "language_info": {
   "codemirror_mode": {
    "name": "ipython",
    "version": 3
   },
   "file_extension": ".py",
   "mimetype": "text/x-python",
   "name": "python",
   "nbconvert_exporter": "python",
   "pygments_lexer": "ipython3",
   "version": "3.7.4"
  }
 },
 "nbformat": 4,
 "nbformat_minor": 2
}
