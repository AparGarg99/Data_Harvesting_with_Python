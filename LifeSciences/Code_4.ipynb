{
 "cells": [
  {
   "cell_type": "code",
   "execution_count": 1,
   "metadata": {},
   "outputs": [],
   "source": [
    "# NOTEBOOK TO BE RUN EVERY DAY"
   ]
  },
  {
   "cell_type": "markdown",
   "metadata": {},
   "source": [
    "# Import Libraries"
   ]
  },
  {
   "cell_type": "code",
   "execution_count": 2,
   "metadata": {},
   "outputs": [],
   "source": [
    "################ WEB SCRAPING MODULES ############\n",
    "from selenium import webdriver\n",
    "from webdriver_manager.chrome import ChromeDriverManager\n",
    "from selenium.webdriver.common.by import By\n",
    "import bs4\n",
    "from fake_useragent import UserAgent\n",
    "import requests\n",
    "################ TIME MODLULES ###################\n",
    "import time\n",
    "import datetime\n",
    "############## DATA MANIPULATION MODULES #########\n",
    "import pandas as pd\n",
    "import numpy as np\n",
    "import re"
   ]
  },
  {
   "cell_type": "markdown",
   "metadata": {},
   "source": [
    "# Define Functions"
   ]
  },
  {
   "cell_type": "code",
   "execution_count": 3,
   "metadata": {},
   "outputs": [],
   "source": [
    "def get_links_and_text():\n",
    "    link=[i.get('href') for i in soup.find_all('a')]\n",
    "    text=[i.text for i in soup.find_all('a')]\n",
    "    #############################################################\n",
    "    INDEX_1=[i for i in range(len(text)) if '$' in text[i]]\n",
    "    #############################################################\n",
    "    link=[link[i] for i in INDEX_1]\n",
    "    text=[text[i] for i in INDEX_1]\n",
    "    return link,text"
   ]
  },
  {
   "cell_type": "code",
   "execution_count": 4,
   "metadata": {},
   "outputs": [],
   "source": [
    "def create_features(z):\n",
    "    amount=[]\n",
    "    mag=[]\n",
    "    for i,x in enumerate(z):\n",
    "        x=re.sub('(?<=\\d),(?=\\d)', '',x) # replace comma b/w integers $2,800 --> $2800\n",
    "        x=x.replace(\". \", \" \").replace(\", \",\" \") # Remove all fullstops from string, except if it's between digits\n",
    "        x=re.sub('[^A-Za-z0-9$.]+', ' ', x) # remove all special characters except $ and .\n",
    "        a=x[x.index('$'):].split()[1],x[x.index('$'):].split()[0][1:]\n",
    "        mag.append(a[0])\n",
    "        amount.append(a[1])\n",
    "    currency=['USD' for i in range(len(z))]\n",
    "    return amount,mag,currency"
   ]
  },
  {
   "cell_type": "markdown",
   "metadata": {},
   "source": [
    "# Scrape [BioSpace News](https://www.biospace.com/news/)"
   ]
  },
  {
   "cell_type": "code",
   "execution_count": 5,
   "metadata": {},
   "outputs": [
    {
     "name": "stdout",
     "output_type": "stream",
     "text": [
      "Iteration 1\n",
      "############\n",
      "No. of links and text are:  0 0\n",
      "**************************************************\n",
      "No. of links and text are:  0 0\n",
      "**************************************************\n",
      "No. of links and text are:  0 0\n",
      "**************************************************\n",
      "Iteration 2\n",
      "############\n",
      "No. of links and text are:  0 0\n",
      "**************************************************\n",
      "No. of links and text are:  1 1\n",
      "**************************************************\n",
      "No. of links and text are:  0 0\n",
      "**************************************************\n",
      "Iteration 3\n",
      "############\n",
      "No. of links and text are:  0 0\n",
      "**************************************************\n",
      "No. of links and text are:  1 1\n",
      "**************************************************\n",
      "No. of links and text are:  0 0\n",
      "**************************************************\n",
      "Iteration 4\n",
      "############\n",
      "No. of links and text are:  0 0\n",
      "**************************************************\n",
      "No. of links and text are:  1 1\n",
      "**************************************************\n",
      "No. of links and text are:  0 0\n",
      "**************************************************\n"
     ]
    }
   ],
   "source": [
    "y,z=[],[]\n",
    "driver = webdriver.Chrome(ChromeDriverManager().install()) # open Chrome driver/window\n",
    "# Scrape links and headlines from first 3 pages of BioSpace News\n",
    "# Multiple iterations(5) are done to eliminate any chances of error\n",
    "for j in range(1,5):\n",
    "    print('Iteration',j)\n",
    "    print('############')\n",
    "    for i in range(1,4): \n",
    "        driver.get('https://www.biospace.com/news/{}/'.format(i)) # open web page on Chrome window\n",
    "        source = driver.page_source\n",
    "        soup=bs4.BeautifulSoup(source, 'html.parser')\n",
    "        link,text=get_links_and_text()\n",
    "        print('No. of links and text are: ',len(link),len(text))\n",
    "        y.append(link)\n",
    "        z.append(text)\n",
    "        time.sleep(5)\n",
    "        print('*'*50)"
   ]
  },
  {
   "cell_type": "code",
   "execution_count": 6,
   "metadata": {},
   "outputs": [],
   "source": [
    "# Normalize features\n",
    "y=[j for i in y for j in i]\n",
    "y=['https://www.biospace.com'+i for i in y]\n",
    "z=[j for i in z for j in i]\n",
    "# Get Amount from headlines/title\n",
    "amount,mag,currency=create_features(z)"
   ]
  },
  {
   "cell_type": "code",
   "execution_count": 7,
   "metadata": {},
   "outputs": [
    {
     "name": "stdout",
     "output_type": "stream",
     "text": [
      "Number of articles to parse = 3\n",
      "Article 0\n",
      "Article 1\n",
      "Article 2\n"
     ]
    }
   ],
   "source": [
    "# Parse each article in DataFrame and scrape Fund type, dates, investors and series type\n",
    "investors=[]\n",
    "series=[]\n",
    "sector=[]\n",
    "dates=[]\n",
    "sector_list=[' Therapeutics',' Biopharma',' Pharma',' Biotherapeutics',' BioTherapeutics',' Inc',\n",
    "             ' Pharmaceuticals',' Bioinformatics','Dx',' Biotics',' Biotechnology',' Diagnostics',' Ltd']\n",
    "print('Number of articles to parse =',len(y))\n",
    "for j,url in enumerate(y):\n",
    "    print('Article',j)\n",
    "    driver.get(url)\n",
    "    source = driver.page_source\n",
    "    soup=bs4.BeautifulSoup(source, 'html.parser')\n",
    "    dates.append(soup.find('span',{'class':'palm-block-level'}).text.split(':')[1].strip())\n",
    "    for script in soup([\"script\", \"style\"]):\n",
    "        script.extract()    \n",
    "    a = soup.get_text()\n",
    "    a=\" \".join(a.split())\n",
    "    a=re.sub('[^A-Za-z0-9.]+', ' ', a)\n",
    "    investors.append([i for i in a.split('.') if bool(re.search('investors ',i.lower()))==True])\n",
    "    series.append([i.lower()[i.lower().find('series'):i.lower().find('series')+8] for i in a.split('.') if i.lower().find('series')!=-1])\n",
    "    sector.append([a.split(i)[0].split()[-1].strip()+\" \"+i for i in sector_list if i in a])"
   ]
  },
  {
   "cell_type": "code",
   "execution_count": 8,
   "metadata": {},
   "outputs": [],
   "source": [
    "# Normalize investors and series type features\n",
    "series2=[]\n",
    "def most_frequent(List): \n",
    "    return max(set(List), key = List.count) \n",
    "\n",
    "for i in range(len(investors)):\n",
    "    if(sector[i]==[]):\n",
    "        sector[i]=np.nan\n",
    "    if(investors[i]==[]):\n",
    "        investors[i]=np.nan    \n",
    "\n",
    "for i in series:\n",
    "    try:\n",
    "        series2.append(most_frequent(i))\n",
    "    except:\n",
    "        series2.append(np.nan)"
   ]
  },
  {
   "cell_type": "code",
   "execution_count": 9,
   "metadata": {},
   "outputs": [],
   "source": [
    "# Create DataFrame from scraped features\n",
    "df=pd.DataFrame(zip(sector,dates,series2,investors,currency,mag,amount),\n",
    "                columns=['Name of Fund','Year Funded','Fund Type','Fund Manager','Currency','Magnitude','Amount of Funding'])"
   ]
  },
  {
   "cell_type": "code",
   "execution_count": 10,
   "metadata": {},
   "outputs": [
    {
     "name": "stderr",
     "output_type": "stream",
     "text": [
      "C:\\Users\\Amit\\Anaconda3\\lib\\site-packages\\ipykernel_launcher.py:5: SettingWithCopyWarning: \n",
      "A value is trying to be set on a copy of a slice from a DataFrame\n",
      "\n",
      "See the caveats in the documentation: http://pandas.pydata.org/pandas-docs/stable/user_guide/indexing.html#returning-a-view-versus-a-copy\n",
      "  \"\"\"\n",
      "C:\\Users\\Amit\\Anaconda3\\lib\\site-packages\\ipykernel_launcher.py:8: SettingWithCopyWarning: \n",
      "A value is trying to be set on a copy of a slice from a DataFrame\n",
      "\n",
      "See the caveats in the documentation: http://pandas.pydata.org/pandas-docs/stable/user_guide/indexing.html#returning-a-view-versus-a-copy\n",
      "  \n"
     ]
    }
   ],
   "source": [
    "# get year from date\n",
    "df['Year Funded']=df['Year Funded'].apply(lambda x: x.split(',')[1])\n",
    "# Make values NaN in column \"Fund Type\" if not list allowed_vals\n",
    "allowed_vals=['series b', 'series d', 'series a', 'series c','series e']\n",
    "df['Fund Type'][~df['Fund Type'].isin(allowed_vals)] = np.nan\n",
    "# Make values NaN in column \"Magnitude\" if not in list allowed_vals\n",
    "allowed_vals=['Million','Billion','Millions','Billions']\n",
    "df['Magnitude'][~df['Magnitude'].isin(allowed_vals)] = np.nan"
   ]
  },
  {
   "cell_type": "code",
   "execution_count": 11,
   "metadata": {},
   "outputs": [],
   "source": [
    "# Make values NaN in column \"Amount of Funding\" if not a float\n",
    "def is_integer(n):\n",
    "    try:\n",
    "        float(n)\n",
    "    except ValueError:\n",
    "        return False\n",
    "    else:\n",
    "        return float(n).is_integer()\n",
    "for i in range(df.shape[0]):\n",
    "    if(is_integer(df.iloc[i,-1])!=True):\n",
    "        df.iloc[i,-1]=np.nan"
   ]
  },
  {
   "cell_type": "markdown",
   "metadata": {},
   "source": [
    "# Save Output"
   ]
  },
  {
   "cell_type": "code",
   "execution_count": 16,
   "metadata": {},
   "outputs": [],
   "source": [
    "from datetime import date\n",
    "name='Funding Rounds BioSpace-'+str(date.today())+'.xlsx'\n",
    "df.to_excel(name,index=False)\n",
    "df=pd.read_excel(name)\n",
    "df=df.drop_duplicates()\n",
    "df.to_excel(name,index=False)\n",
    "driver.close()"
   ]
  },
  {
   "cell_type": "code",
   "execution_count": 17,
   "metadata": {},
   "outputs": [
    {
     "data": {
      "text/html": [
       "<div>\n",
       "<style scoped>\n",
       "    .dataframe tbody tr th:only-of-type {\n",
       "        vertical-align: middle;\n",
       "    }\n",
       "\n",
       "    .dataframe tbody tr th {\n",
       "        vertical-align: top;\n",
       "    }\n",
       "\n",
       "    .dataframe thead th {\n",
       "        text-align: right;\n",
       "    }\n",
       "</style>\n",
       "<table border=\"1\" class=\"dataframe\">\n",
       "  <thead>\n",
       "    <tr style=\"text-align: right;\">\n",
       "      <th></th>\n",
       "      <th>Name of Fund</th>\n",
       "      <th>Year Funded</th>\n",
       "      <th>Fund Type</th>\n",
       "      <th>Fund Manager</th>\n",
       "      <th>Currency</th>\n",
       "      <th>Magnitude</th>\n",
       "      <th>Amount of Funding</th>\n",
       "    </tr>\n",
       "  </thead>\n",
       "  <tbody>\n",
       "    <tr>\n",
       "      <td>0</td>\n",
       "      <td>['Sciences  Inc']</td>\n",
       "      <td>2020</td>\n",
       "      <td>NaN</td>\n",
       "      <td>[' NASDAQ ALPN a leading clinical stage immuno...</td>\n",
       "      <td>USD</td>\n",
       "      <td>Million</td>\n",
       "      <td>60</td>\n",
       "    </tr>\n",
       "  </tbody>\n",
       "</table>\n",
       "</div>"
      ],
      "text/plain": [
       "        Name of Fund  Year Funded  Fund Type  \\\n",
       "0  ['Sciences  Inc']         2020        NaN   \n",
       "\n",
       "                                        Fund Manager Currency Magnitude  \\\n",
       "0  [' NASDAQ ALPN a leading clinical stage immuno...      USD   Million   \n",
       "\n",
       "   Amount of Funding  \n",
       "0                 60  "
      ]
     },
     "execution_count": 17,
     "metadata": {},
     "output_type": "execute_result"
    }
   ],
   "source": [
    "df"
   ]
  }
 ],
 "metadata": {
  "kernelspec": {
   "display_name": "Python 3",
   "language": "python",
   "name": "python3"
  },
  "language_info": {
   "codemirror_mode": {
    "name": "ipython",
    "version": 3
   },
   "file_extension": ".py",
   "mimetype": "text/x-python",
   "name": "python",
   "nbconvert_exporter": "python",
   "pygments_lexer": "ipython3",
   "version": "3.7.4"
  }
 },
 "nbformat": 4,
 "nbformat_minor": 2
}
